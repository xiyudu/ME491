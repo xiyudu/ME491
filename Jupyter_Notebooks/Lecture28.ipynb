{
  "nbformat": 4,
  "nbformat_minor": 0,
  "metadata": {
    "colab": {
      "provenance": []
    },
    "kernelspec": {
      "name": "python3",
      "display_name": "Python 3"
    },
    "language_info": {
      "name": "python"
    }
  },
  "cells": [
    {
      "cell_type": "markdown",
      "source": [
        "## Lecture 28: Stochastic Gradient Descent + Neural Networks for Dynamical Systems\n",
        "\n",
        "In today's lecture, we will explore\n",
        "1. Implementing our own Staochastic Gradient Descent Algorithm\n",
        "2. Neural Networks ability to predict future states for a dynamical system (a system of ODEs).  In particular, we will look at how to train an NN to predict Lorenz System Dynamics"
      ],
      "metadata": {
        "id": "yKLfRDkGcvHF"
      }
    },
    {
      "cell_type": "code",
      "execution_count": 1,
      "metadata": {
        "id": "CQBN_RdBOqZc"
      },
      "outputs": [],
      "source": [
        "import numpy as np\n",
        "import os\n",
        "\n",
        "import matplotlib.pyplot as plt\n",
        "from matplotlib import rc\n",
        "\n",
        "plt.rcParams['xtick.labelsize']=16      # change the tick label size for x axis\n",
        "plt.rcParams['ytick.labelsize']=16      # change the tick label size for x axis\n",
        "plt.rcParams['axes.linewidth']=1        # change the line width of the axis\n",
        "plt.rcParams['xtick.major.width'] = 3   # change the tick line width of x axis\n",
        "plt.rcParams['ytick.major.width'] = 3   # change the tick line width of y axis\n",
        "rc('text', usetex=False)                # disable LaTeX rendering in plots\n",
        "rc('font',**{'family':'DejaVu Sans'})   # set the font of the plot to be DejaVu Sans"
      ]
    },
    {
      "cell_type": "code",
      "source": [
        "from scipy import integrate\n",
        "\n",
        "from keras.models import Sequential\n",
        "from keras.layers import Dense, Conv2D, Flatten, MaxPool2D\n",
        "from keras import optimizers\n",
        "from keras.layers import Activation\n",
        "from keras import backend as K"
      ],
      "metadata": {
        "id": "Eq5wasbT-Yah"
      },
      "execution_count": 2,
      "outputs": []
    },
    {
      "cell_type": "markdown",
      "source": [
        "### 1. Stochastic Gradient Descent\n",
        "\n",
        "Here we present the implementation based on the textbook, but there are many different ways to implement SGD, see below for a few examples:\n",
        "\n",
        "1. https://www.geeksforgeeks.org/ml-stochastic-gradient-descent-sgd/\n",
        "2. https://realpython.com/gradient-descent-algorithm-python/\n",
        "3. https://scikit-learn.org/stable/modules/sgd.html"
      ],
      "metadata": {
        "id": "LTg8TI-K-dZl"
      }
    },
    {
      "cell_type": "code",
      "source": [
        "from matplotlib import rcParams\n",
        "from scipy import interpolate\n",
        "from mpl_toolkits.mplot3d import Axes3D\n",
        "\n",
        "rcParams.update({'font.size': 18})\n",
        "plt.rcParams['figure.figsize'] = [12, 12]\n",
        "\n",
        "iterMax = 100 # maximum iteration number\n",
        "h = 0.1 # resolution for function evaluation\n",
        "x_grid = np.arange(-6, 6+h, h)\n",
        "y_grid = np.copy(x_grid)\n",
        "n = len(x_grid)\n",
        "X, Y = np.meshgrid(x_grid, y_grid)\n",
        "F1 = 1.5 - 1.6 * np.exp(-0.05 * (3 * (X+3)**2 + (Y+3)**2))\n",
        "F = F1 + (0.5 - np.exp(-0.1*(3 * (X-3)**2 + (Y-3)**2)))\n",
        "dFy, dFx = np.gradient(F, h, h)\n",
        "\n",
        "x0 = np.array([4, 0, -5])\n",
        "y0 = np.array([0, -5, 2])\n",
        "\n",
        "x = np.zeros(iterMax+1)\n",
        "y = np.copy(x)\n",
        "f = np.copy(x)\n",
        "\n",
        "x_out = np.zeros((iterMax+1, 3));\n",
        "y_out = np.copy(x_out)\n",
        "f_out = np.copy(x_out)\n",
        "\n",
        "interp_type = 'linear'\n",
        "\n",
        "for jj in range(3):\n",
        "  q = np.random.permutation(n)\n",
        "  i1 = np.sort(q[:10])\n",
        "  q2 = np.random.permutation(n)\n",
        "  i2 = np.sort(q2[:10])\n",
        "  x[0] = x0[jj]\n",
        "  y[0] = y0[jj]\n",
        "\n",
        "  F_i12 = F[i1[:, np.newaxis],i2]\n",
        "  dFx_i12 = dFx[i1[:, np.newaxis],i2]\n",
        "  dFy_i12 = dFy[i1[:, np.newaxis],i2]\n",
        "\n",
        "  F_interp = interpolate.interp2d(x_grid[i1], y_grid[i2], F_i12, kind=interp_type)\n",
        "  dfx_interp = interpolate.interp2d(x_grid[i1], y_grid[i2], dFx_i12, kind=interp_type)\n",
        "  dfy_interp = interpolate.interp2d(x_grid[i1], y_grid[i2], dFy_i12, kind=interp_type)\n",
        "\n",
        "  f[0] = F_interp(x[0],y[0])\n",
        "  dfx = dfx_interp(x[0],y[0])\n",
        "  dfy = dfy_interp(x[0],y[0])\n",
        "\n",
        "  tau = 1.5\n",
        "  for j in range(iterMax):\n",
        "    x[j+1] = x[j]-tau*dfx # update x, y, and f\n",
        "    y[j+1] = y[j]-tau*dfy\n",
        "    q = np.random.permutation(n)\n",
        "    i1 = np.sort(q[:10])\n",
        "    q2 = np.random.permutation(n)\n",
        "    i2 = np.sort(q2[:10])\n",
        "\n",
        "    F_interp = interpolate.interp2d(x_grid[i1], y_grid[i2], F_i12, kind=interp_type)\n",
        "    dfx_interp = interpolate.interp2d(x_grid[i1], y_grid[i2], dFx_i12, kind=interp_type)\n",
        "    dfy_interp = interpolate.interp2d(x_grid[i1], y_grid[i2], dFy_i12, kind=interp_type)\n",
        "\n",
        "    f[j+1] = F_interp(x[j+1], y[j+1])\n",
        "    dfx = dfx_interp(x[j+1], y[j+1])\n",
        "    dfy = dfy_interp(x[j+1], y[j+1])\n",
        "\n",
        "    if np.abs(f[j+1]-f[j]) < 10**(-6): # check convergence\n",
        "      print('Converged after {} iterations'.format(j+1))\n",
        "      break\n",
        "    if j == iterMax-1:\n",
        "      print('Failed to converge after {} iterations'.format(j+1))\n",
        "  x_out[:,jj] = x\n",
        "  y_out[:,jj] = y\n",
        "  f_out[:,jj] = f\n",
        "\n",
        "  # If converged before iterMax, replace 0s with NaNs\n",
        "  x_out[(j+2):,jj] = np.nan\n",
        "  y_out[(j+2):,jj] = np.nan\n",
        "  f_out[(j+2):,jj] = np.nan"
      ],
      "metadata": {
        "id": "8iWnAeV7-aUt"
      },
      "execution_count": null,
      "outputs": []
    },
    {
      "cell_type": "code",
      "source": [
        "plt.figure()\n",
        "plt.contour(X, Y, F, colors = 'k')\n",
        "for jj in range(3):\n",
        "  plt.plot(x_out[:,jj], y_out[:,jj], 'o')\n",
        "plt.show()\n",
        "\n",
        "fig,ax = plt.subplots(1, 1, subplot_kw={'projection': '3d'})\n",
        "ax.plot_surface(X, Y, F, linewidth=0, cmap='binary', alpha=0.3)\n",
        "for jj in range(3):\n",
        "  ax.scatter(x_out[:,jj], y_out[:,jj], f_out[:,jj]+0.1, 'o', s=100)\n",
        "ax.view_init(elev = 40, azim = -100)\n",
        "plt.show()"
      ],
      "metadata": {
        "id": "E0Jhtmi1A3eE"
      },
      "execution_count": null,
      "outputs": []
    },
    {
      "cell_type": "markdown",
      "source": [
        "### 2. NN for Dynamical System\n",
        "#### 2.1 Generate Trajetory for Lorenz System Using `scipy.integrate.odeint`.\n",
        "\n",
        "Equations for Lorzen System:\n",
        "\n",
        "\\begin{align}\n",
        "x′ &= \\sigma(y - x)\\\\\n",
        "y′ &= x(\\rho - z) - y\\\\\n",
        "z′ &= xy − \\beta z\\\\\n",
        "\\end{align}"
      ],
      "metadata": {
        "id": "jqLUia_d-hVR"
      }
    },
    {
      "cell_type": "code",
      "source": [
        "## Simulate the Lorenz System\n",
        "\n",
        "# total time and timestep for ODE solver\n",
        "dt = 0.01\n",
        "T = 8\n",
        "t = np.arange(0,T+dt,dt)\n",
        "\n",
        "# parameters for Lorenz System\n",
        "beta = 8/3.0\n",
        "sigma = 10\n",
        "rho = 28\n",
        "\n",
        "nn_input = np.zeros((100*(len(t)-1), 3))\n",
        "nn_output = np.zeros_like(nn_input)\n",
        "\n",
        "fig,ax = plt.subplots(1,1,subplot_kw={'projection': '3d'})\n",
        "\n",
        "def lorenz_deriv(x_y_z, t0, sigma=sigma, beta=beta, rho=rho):\n",
        "  x, y, z = x_y_z\n",
        "  return [sigma * (y - x), x * (rho - z) - y, x * y - beta * z]\n",
        "\n",
        "np.random.seed(123)\n",
        "x0 = -15 + 30 * np.random.random((100, 3))\n",
        "\n",
        "x_t = np.asarray([integrate.odeint(lorenz_deriv, x0_j, t)\n",
        "                  for x0_j in x0])\n",
        "\n",
        "for j in range(100):\n",
        "  nn_input[j*(len(t)-1):(j+1)*(len(t)-1),:] = x_t[j,:-1,:]\n",
        "  nn_output[j*(len(t)-1):(j+1)*(len(t)-1),:] = x_t[j,1:,:]\n",
        "  x, y, z = x_t[j,:,:].T\n",
        "  ax.plot(x, y, z,linewidth=1)\n",
        "  ax.scatter(x0[j,0],x0[j,1],x0[j,2],color='r')\n",
        "\n",
        "ax.view_init(18, -113)\n",
        "plt.show()"
      ],
      "metadata": {
        "id": "sxSAqtvfemtH"
      },
      "execution_count": null,
      "outputs": []
    },
    {
      "cell_type": "code",
      "source": [
        "net = Sequential()\n",
        "net.add(Dense(10, input_dim=3, activation='sigmoid'))\n",
        "net.add(Dense(10, activation='relu'))\n",
        "net.add(Dense(3, activation='linear'))\n",
        "net.compile(loss='mse', optimizer='adam')\n",
        "History = net.fit(nn_input, nn_output, epochs=30)"
      ],
      "metadata": {
        "id": "Qk0ghE4Me2gq"
      },
      "execution_count": null,
      "outputs": []
    },
    {
      "cell_type": "code",
      "source": [
        "num_traj = 100\n",
        "ynn = np.zeros((num_traj, len(t), 3))\n",
        "ynn[:, 0, :] = -15 + 30 * np.random.random((num_traj, 3))\n",
        "for jj, tval in enumerate(t[:-1]):\n",
        "  ynn[:, jj+1, :] = net.predict(ynn[:, jj, :])"
      ],
      "metadata": {
        "id": "csCqTXMS-oaQ"
      },
      "execution_count": null,
      "outputs": []
    },
    {
      "cell_type": "code",
      "source": [
        "fig,ax = plt.subplots(1,1,subplot_kw={'projection': '3d'})\n",
        "for i in range(num_traj):\n",
        "  ax.plot(ynn[i, :, 0], ynn[i, :, 1], ynn[i, :, 2], linewidth=1)\n",
        "\n",
        "ax.view_init(18, -113)\n",
        "plt.show()"
      ],
      "metadata": {
        "id": "wbJfTquzIBnT"
      },
      "execution_count": null,
      "outputs": []
    },
    {
      "cell_type": "code",
      "source": [],
      "metadata": {
        "id": "C3coQPc2JGtu"
      },
      "execution_count": null,
      "outputs": []
    }
  ]
}