{
 "cells": [
  {
   "cell_type": "markdown",
   "metadata": {
    "id": "HIKomBLDWxzO"
   },
   "source": [
    "## Lecture 2: reading image, basic review of `numpy` and Linear Algebra"
   ]
  },
  {
   "cell_type": "code",
   "execution_count": null,
   "metadata": {
    "id": "Pc8Dy3dYW3FU"
   },
   "outputs": [],
   "source": [
    "import numpy as np\n",
    "\n",
    "import matplotlib.pyplot as plt\n",
    "from matplotlib import rc\n",
    "\n",
    "plt.rcParams['xtick.labelsize']=20      # change the tick label size for x axis\n",
    "plt.rcParams['ytick.labelsize']=20      # change the tick label size for x axis\n",
    "plt.rcParams['axes.linewidth']=1        # change the line width of the axis\n",
    "plt.rcParams['xtick.major.width'] = 3   # change the tick line width of x axis\n",
    "plt.rcParams['ytick.major.width'] = 3   # change the tick line width of y axis\n",
    "rc('text', usetex=False)                # disable LaTeX rendering in plots\n",
    "rc('font',**{'family':'DejaVu Sans'})   # set the font of the plot to be DejaVu Sans"
   ]
  },
  {
   "cell_type": "markdown",
   "metadata": {
    "id": "ZyGgnh4noP-X"
   },
   "source": [
    "### 0. Read File from Google Drive\n",
    "In this course, we will need data that we did not generate ourselves, so it is crucial to learn how to read data into Python.\n",
    "\n",
    "If you are using Python on your own computer, then you will not need to worry about mounting your Google Drive in your Jupyter Notebook.  If you are using Google Colab, then the next step is crucial.\n",
    "\n",
    "#### Mounting Google Drive to Colab"
   ]
  },
  {
   "cell_type": "code",
   "execution_count": null,
   "metadata": {
    "colab": {
     "base_uri": "https://localhost:8080/"
    },
    "id": "q5zT954CoHXS",
    "outputId": "7b528183-1226-4645-c0a0-e3be163302e6"
   },
   "outputs": [
    {
     "name": "stdout",
     "output_type": "stream",
     "text": [
      "Mounted at /content/drive\n",
      "/content\n"
     ]
    }
   ],
   "source": [
    "from google.colab import drive\n",
    "drive.mount('/content/drive')\n",
    "\n",
    "# you can use bash commands in Python environment by putting \"!\" at the\n",
    "# beginning of the command\n",
    "!pwd # this is a bash command to print (p) working (w) directory (d)"
   ]
  },
  {
   "cell_type": "markdown",
   "metadata": {
    "id": "MrXz99cexqur"
   },
   "source": [
    "#### Getting to the correct directory\n",
    "\n",
    "1. **Safest choice**: you can always hard code the absolute directory path\n",
    "2. **Convenient choice**: you can use `os.chdir` to change to your desired working directory (caution: you need to always pay attention which directory you are in when going through your code)\n",
    "\n",
    "`os` is a very useful package for navigating your operating/file systems. There are many tutorials for the `os` package online. If you are curious to learn more, search for \"python os tutorial\".\n"
   ]
  },
  {
   "cell_type": "code",
   "execution_count": null,
   "metadata": {
    "colab": {
     "base_uri": "https://localhost:8080/"
    },
    "id": "FOR_oKcSW9GW",
    "outputId": "380b3a2b-036b-4e2e-b985-f1e16e4dd018"
   },
   "outputs": [
    {
     "name": "stdout",
     "output_type": "stream",
     "text": [
      "/content/drive/MyDrive/ME491/image/dog.jpg\n"
     ]
    }
   ],
   "source": [
    "import os\n",
    "\n",
    "# Method 1\n",
    "path = \"/content/drive/MyDrive/ME491\"\n",
    "image_path = os.path.join(path, \"image/dog.jpg\")\n",
    "print(image_path)"
   ]
  },
  {
   "cell_type": "code",
   "execution_count": null,
   "metadata": {
    "colab": {
     "base_uri": "https://localhost:8080/"
    },
    "id": "h-sQsLhbu0WP",
    "outputId": "8e6ab409-74ff-4199-98cd-b0b292b20d44"
   },
   "outputs": [
    {
     "name": "stdout",
     "output_type": "stream",
     "text": [
      "/content/drive/MyDrive/ME491\n"
     ]
    }
   ],
   "source": [
    "# Method 2\n",
    "os.chdir(path)\n",
    "!pwd"
   ]
  },
  {
   "cell_type": "markdown",
   "metadata": {
    "id": "z-TnBVJL1qSz"
   },
   "source": [
    "### 1. Read Image\n",
    "\n",
    "Documentation on `plt.imshow`: https://matplotlib.org/stable/api/_as_gen/matplotlib.pyplot.imshow.html"
   ]
  },
  {
   "cell_type": "code",
   "execution_count": null,
   "metadata": {
    "id": "nTSuQQTZpZkV"
   },
   "outputs": [],
   "source": [
    "from matplotlib.image import imread\n",
    "\n",
    "A = imread(image_path)\n",
    "plt.imshow(A)"
   ]
  },
  {
   "cell_type": "markdown",
   "metadata": {
    "id": "j0gHLW2zhIGA"
   },
   "source": [
    "Now let's look at what's in $A$"
   ]
  },
  {
   "cell_type": "code",
   "execution_count": null,
   "metadata": {
    "id": "paZb6uNJpsmv"
   },
   "outputs": [],
   "source": []
  },
  {
   "cell_type": "markdown",
   "metadata": {
    "id": "LDFBFPLZhMg9"
   },
   "source": [
    "Normally, when converting images to data,  we will reduce the image to grayscale."
   ]
  },
  {
   "cell_type": "code",
   "execution_count": null,
   "metadata": {
    "id": "1jUo_LTEp5QH"
   },
   "outputs": [],
   "source": []
  },
  {
   "cell_type": "markdown",
   "metadata": {
    "id": "W6DDjlHJhjsU"
   },
   "source": [
    "Let's plot the image again."
   ]
  },
  {
   "cell_type": "code",
   "execution_count": null,
   "metadata": {
    "id": "h4tEcE20qEDw"
   },
   "outputs": [],
   "source": []
  },
  {
   "cell_type": "markdown",
   "metadata": {
    "id": "wWjqJGRxiBI9"
   },
   "source": [
    "### 2. Basic `Numpy` Recap\n",
    "\n",
    "2.1. Array Generation"
   ]
  },
  {
   "cell_type": "code",
   "execution_count": null,
   "metadata": {
    "colab": {
     "base_uri": "https://localhost:8080/"
    },
    "id": "oblji_p1qFQH",
    "outputId": "20aa3b33-bc85-47ab-85d9-5e13df2dc296"
   },
   "outputs": [
    {
     "name": "stdout",
     "output_type": "stream",
     "text": [
      "[0. 0. 0. 0. 0. 0. 0. 0. 0. 0.] \n",
      " [[1. 1. 1. 1.]\n",
      " [1. 1. 1. 1.]\n",
      " [1. 1. 1. 1.]\n",
      " [1. 1. 1. 1.]] \n",
      " [[0.61035948 0.37020884 0.28512825]\n",
      " [0.54553086 0.61349398 0.86333552]\n",
      " [0.91714648 0.46828653 0.70222766]]\n"
     ]
    }
   ],
   "source": [
    "# generate a 1D array (vector) of 10 zeros\n",
    "a = np.zeros(10)\n",
    "# generate a 2D array (matrix) of [4, 4] ones\n",
    "b = np.ones((4, 4))\n",
    "# generate a 2D array (matrix) of [3, 3] ones\n",
    "c = np.random.rand(3, 3)\n",
    "print(a, '\\n', b, '\\n', c)"
   ]
  },
  {
   "cell_type": "markdown",
   "metadata": {
    "id": "RX6aT3DRlttO"
   },
   "source": [
    "2.2 Array Slicing"
   ]
  },
  {
   "cell_type": "code",
   "execution_count": null,
   "metadata": {
    "colab": {
     "base_uri": "https://localhost:8080/"
    },
    "id": "-F51i1QVk1ZL",
    "outputId": "8b882c63-0373-4ff1-e51e-cb140c156967"
   },
   "outputs": [
    {
     "name": "stdout",
     "output_type": "stream",
     "text": [
      "Array 1 is: \n",
      " [[3 1 2 2]\n",
      " [1 3 5 3]\n",
      " [3 4 3 3]\n",
      " [3 5 3 2]]\n",
      "Array 2 is: \n",
      " [[1 3 4 5]\n",
      " [5 2 4 5]\n",
      " [2 3 3 3]\n",
      " [3 3 4 5]]\n",
      "[[1 3 5 3]\n",
      " [3 4 3 3]\n",
      " [3 5 3 2]]\n"
     ]
    }
   ],
   "source": [
    "X_1 = np.random.randint(low=1, high=6, size=(4, 4))\n",
    "X_2 = np.random.randint(low=1, high=6, size=(4, 4))\n",
    "print(\"Array 1 is: \\n\", X_1)\n",
    "print(\"Array 2 is: \\n\", X_2)\n",
    "print(X_1[1::, :])"
   ]
  },
  {
   "cell_type": "markdown",
   "metadata": {
    "id": "slFze_ihoJdT"
   },
   "source": [
    "2.3 Some Useful `Numpy` Commands"
   ]
  },
  {
   "cell_type": "code",
   "execution_count": null,
   "metadata": {
    "colab": {
     "base_uri": "https://localhost:8080/"
    },
    "id": "GIuKRcdTnCQO",
    "outputId": "de601351-15e6-4b08-8b9c-fdb96218f344"
   },
   "outputs": [
    {
     "name": "stdout",
     "output_type": "stream",
     "text": [
      "(2000, 1500, 3)\n"
     ]
    }
   ],
   "source": [
    "# Getting the dimension of an array\n",
    "print(np.shape(A))"
   ]
  },
  {
   "cell_type": "markdown",
   "metadata": {
    "id": "YSunKFRdo21x"
   },
   "source": [
    "### 3. Linear Algebra Review\n",
    "\n",
    "Recall an $m\\times n$ matrix $A$ can be represented as:\n",
    "$$A = \\begin{bmatrix}\n",
    "    a_{11} & a_{12} & a_{13} & \\dots  & a_{1n} \\\\\n",
    "    a_{21} & a_{22} & a_{23} & \\dots  & a_{2n} \\\\\n",
    "    \\vdots & \\vdots & \\vdots & \\ddots & \\vdots \\\\\n",
    "    a_{m1} & a_{m2} & a_{m3} & \\dots  & a_{mn}\n",
    "\\end{bmatrix}$$\n",
    "\n",
    "\n"
   ]
  },
  {
   "cell_type": "code",
   "execution_count": null,
   "metadata": {
    "id": "yqGbqY-fodIg"
   },
   "outputs": [],
   "source": [
    "# Let's generate two random matrices\n",
    "A = np.random.randint(low=1, high=6, size=(4, 4))\n",
    "B = np.random.randint(low=1, high=6, size=(4, 4))\n",
    "print(\"Array A is: \\n\", A)\n",
    "print(\"Array B is: \\n\", B)"
   ]
  },
  {
   "cell_type": "markdown",
   "metadata": {
    "id": "ljbosBPT0F4L"
   },
   "source": [
    "3.1 Matrix Addition\n",
    "\n",
    "The sum $A+B$ of two $m\\times n$ matrices $A$ and $B$ is calculated entry wise:\n",
    "\n",
    "$$ (A+B)_{ij} = A_{ij}+B_{ij}$$"
   ]
  },
  {
   "cell_type": "code",
   "execution_count": null,
   "metadata": {
    "id": "rEW8qw4c0kPi"
   },
   "outputs": [],
   "source": [
    "# element-wise addition\n",
    "print(\"Element-wise addition for A and B is: \\n\", )"
   ]
  },
  {
   "cell_type": "markdown",
   "metadata": {
    "id": "bZafZd812J7d"
   },
   "source": [
    "Similarly, you can do element-wise subtraction, multiplication and division."
   ]
  },
  {
   "cell_type": "code",
   "execution_count": null,
   "metadata": {
    "id": "PUN09zOs2PQp"
   },
   "outputs": [],
   "source": [
    "# element-wise subtraction\n",
    "print(\"Element-wise subtraction for A and B is: \\n\", )\n",
    "# element-wise multiplication\n",
    "print(\"Element-wise multiplication for A and B is: \\n\", )\n",
    "# element-wise division\n",
    "print(\"Element-wise division for A and B is: \\n\", )"
   ]
  },
  {
   "cell_type": "markdown",
   "metadata": {
    "id": "pH1b1FFi07lh"
   },
   "source": [
    "3.2 Scalar Multiplication\n",
    "\n",
    "The product $cA$ of a number $c$ and a matrix $A$ is computed by multiplying every entry of $A$ by $c$:\n",
    "\n",
    "$$ (cA)_{ij} = c\\cdot A_{ij}$$"
   ]
  },
  {
   "cell_type": "code",
   "execution_count": null,
   "metadata": {
    "id": "8LSxvhpN0lJT"
   },
   "outputs": [],
   "source": [
    "# scalar multiplication\n",
    "c = np.random.randint(low=-6, high=6)\n",
    "print(c)\n",
    "print(\"Scalar multiplication for scalar c and matrix A is: \\n\", )"
   ]
  },
  {
   "cell_type": "markdown",
   "metadata": {
    "id": "5bMgqq3h4EON"
   },
   "source": [
    "3.3 Transposition\n",
    "\n",
    "The transpose of an $m\\times n$ matrix is the $n\\times m$ matrix $A^T$ formed by turning rows into columns and vice versa:\n",
    "\n",
    "$$ (A^T)_{ij} = A_{ji}$$"
   ]
  },
  {
   "cell_type": "code",
   "execution_count": null,
   "metadata": {
    "id": "1H2jsr-O13Op"
   },
   "outputs": [],
   "source": [
    "print(\"The transpose of matrix A is: \\n\", )"
   ]
  },
  {
   "cell_type": "markdown",
   "metadata": {
    "id": "YHf3O55M49d7"
   },
   "source": [
    "3.4 Matrix Multiplication\n",
    "\n",
    "$$ [AB]_{ij} = a_{i1}b_{1j}+a_{i2}b_{2j}+\\cdots+a_{in}b_{nj}=\\sum_{r=1}^n a_{ir}b_{rj}$$"
   ]
  },
  {
   "cell_type": "code",
   "execution_count": null,
   "metadata": {
    "id": "X2mTWRiE4zbB"
   },
   "outputs": [],
   "source": [
    "# Matrix Multiplication\n",
    "print(\"Matrix Multiplication for A and B is: \\n\", )"
   ]
  },
  {
   "cell_type": "markdown",
   "metadata": {
    "id": "p3Opnkht6LeZ"
   },
   "source": [
    "Matrix multiplication does not commute:\n",
    "$$AB\\neq BA$$"
   ]
  },
  {
   "cell_type": "code",
   "execution_count": null,
   "metadata": {
    "id": "QVfrRZwB5_3f"
   },
   "outputs": [],
   "source": [
    "print(\"Matrix Multiplication for B and A is: \\n\", )"
   ]
  },
  {
   "cell_type": "markdown",
   "metadata": {
    "id": "6dU6pozc7P8T"
   },
   "source": [
    "3.5 Identity Matrix\n",
    "\n",
    "The identity matrix is a square matrix of any arbitrary size with ones on the main diagonal and zeros elsewhere.\n",
    "\n",
    "For a matrix $A$ with size $m\\times n$, we have:\n",
    "$$ I_mA=AI_n=A $$"
   ]
  },
  {
   "cell_type": "code",
   "execution_count": null,
   "metadata": {
    "id": "2psazYGY6V7C"
   },
   "outputs": [],
   "source": [
    "# It's very easy to generate an identity matrix in numpy\n"
   ]
  },
  {
   "cell_type": "markdown",
   "metadata": {
    "id": "ofcVxKCTtx9Q"
   },
   "source": [
    "3.6 Determinant of a matrix\n",
    "\n",
    "The determinant of a $2\\times2$ matrix is\n",
    "$$ \\det(A) = \\det\\left(\\begin{bmatrix}\n",
    "    a & b  \\\\\n",
    "    c & d\n",
    "\\end{bmatrix}\\right)=ad-bc$$\n",
    "\n",
    "The determinant of a $3\\times3$ matrix is\n",
    "$$ \\det(A) = \\det\\left(\\begin{bmatrix}\n",
    "    a & b & c  \\\\\n",
    "    d & e & f  \\\\\n",
    "    g & h & i\n",
    "\\end{bmatrix}\\right)=aei+bfg+cdh-ceg-fha-ibd$$"
   ]
  },
  {
   "cell_type": "code",
   "execution_count": null,
   "metadata": {
    "id": "slzBLAjrxNoO"
   },
   "outputs": [],
   "source": [
    "# numpy has convenient functions to compute the determinant of a given matrix\n",
    "print(\"The determinant of A is: \", )"
   ]
  },
  {
   "cell_type": "markdown",
   "metadata": {
    "id": "pp1VmOkj70a9"
   },
   "source": [
    "3.7 Matrix Inverse\n",
    "\n",
    "For a square matrix $A$, its inverse $A^{-1}$ has the following property\n",
    "$$A^{-1}A=AA^{-1}=I$$\n",
    "\n",
    "Note: not all square matrices have inverses, a square matrix has an inverse *if and only if* the determinant of the matrix is not zero."
   ]
  },
  {
   "cell_type": "code",
   "execution_count": null,
   "metadata": {
    "id": "j1i6ffv6x0XB"
   },
   "outputs": [],
   "source": [
    "# again, we can use numpy to find the inverse of a matrix\n",
    "A_inv =\n",
    "print(\"The inverse of A is: \\n\", A_inv)"
   ]
  },
  {
   "cell_type": "markdown",
   "metadata": {
    "id": "lHxvMToy7S-U"
   },
   "source": [
    "3.8 Eigenvalues/vectors of a Square Matrix\n",
    "\n",
    "For a square matrix $A$, we have:\n",
    "\n",
    "$$ Ax=\\lambda x$$\n",
    "\n",
    "all scalar value $\\lambda$s that satisfy the above equation are *eigenvalues* of $A$, while all vector $x$s that satisfy the above equation are *eigenvectors* of $A$.\n",
    "\n",
    "Eigenvalues and eigenvectors are very useful in matrix decomopositions, which we will use a lot in this course."
   ]
  },
  {
   "cell_type": "code",
   "execution_count": null,
   "metadata": {
    "id": "RYo4VfLg7WCr"
   },
   "outputs": [],
   "source": [
    "# for now, let's just use numpy to find eigenvalues/vectors for a matrix\n",
    "eigenvalues, eigenvectors =\n",
    "print(\"Eigenvalues for A are: \\n\", eigenvalues)\n",
    "print(\"Eigenvectors for A are: \\n\", eigenvectors)"
   ]
  },
  {
   "cell_type": "markdown",
   "metadata": {
    "id": "v7zTqcNm8I8I"
   },
   "source": [
    "3.9 Eigen decomposition\n",
    "\n",
    "Once we have the eigenvalues and eigenvectors for a matrix, we can decompose the matrix into three parts\n",
    "1. a matrix consists of all eigenvectors $Q$\n",
    "2. a diagonal matrix where the eigenvalues are on the diagonals in the same order as the eigenvector matrix $\\Lambda$\n",
    "3. the inverse of the eigenvector matrix $Q^{-1}$\n",
    "\n",
    "$$ A = Q\\Lambda Q^{-1}$$"
   ]
  },
  {
   "cell_type": "code",
   "execution_count": null,
   "metadata": {
    "id": "SQThDUB20STZ"
   },
   "outputs": [],
   "source": [
    "# Let's test it in numpy\n",
    "print(A)\n",
    "Lambda = np.diag(eigenvalues) # turn a vector into a diagonal matrix\n",
    "print(eigenvectors @ Lambda @ np.linalg.inv(eigenvectors))"
   ]
  },
  {
   "cell_type": "markdown",
   "metadata": {
    "id": "8F0r7Vs08BTM"
   },
   "source": [
    "3.10 Inner Product\n",
    "\n",
    "Inner product for vectors is the same as the dot product, but it can be extended to higher dimensions."
   ]
  },
  {
   "cell_type": "code",
   "execution_count": null,
   "metadata": {
    "id": "NdpjJQdX8Elu"
   },
   "outputs": [],
   "source": [
    "a =\n",
    "b =\n",
    "print(a)\n",
    "print(a.shape)\n",
    "print(b)\n",
    "print(b.shape)\n",
    "c =\n",
    "print(c)\n",
    "print(c.shape)"
   ]
  },
  {
   "cell_type": "markdown",
   "metadata": {
    "id": "hEOZU8Rb8E9U"
   },
   "source": [
    "3.11 Outer Product\n",
    "\n",
    "For two vectors $u$ ($m\\times1$) and $v$ ($n\\times1$), where:\n",
    "$$ u = \\begin{bmatrix}\n",
    "    u_1  \\\\\n",
    "    u_2  \\\\\n",
    "    \\vdots \\\\\n",
    "    u_m\n",
    "\\end{bmatrix}, \\qquad v = \\begin{bmatrix}\n",
    "    v_1  \\\\\n",
    "    v_2  \\\\\n",
    "    \\vdots \\\\\n",
    "    v_n\n",
    "\\end{bmatrix}$$\n",
    "\n",
    "The outer product of $u\\otimes v$ is a matrix of shape $m\\times n$:\n",
    "$$\\begin{bmatrix}\n",
    "    u_1v_1 & u_1v_2 & \\cdots & u_1v_n  \\\\\n",
    "    u_2v_1 & u_2v_2 & \\cdots & u_2v_n  \\\\\n",
    "    \\vdots & \\vdots & \\ddots & \\vdots \\\\\n",
    "    u_mv_1 & u_mv_2 & \\cdots & u_mv_n\n",
    "\\end{bmatrix}$$"
   ]
  },
  {
   "cell_type": "code",
   "execution_count": null,
   "metadata": {
    "id": "EHivlHZK8F_8"
   },
   "outputs": [],
   "source": [
    "a =\n",
    "b =\n",
    "print(a)\n",
    "print(a.shape)\n",
    "print(b)\n",
    "print(b.shape)\n",
    "c =\n",
    "print(c)\n",
    "print(c.shape)"
   ]
  },
  {
   "cell_type": "markdown",
   "metadata": {
    "id": "Wi7mRHRx-0Rk"
   },
   "source": [
    "### Extra: image compression"
   ]
  },
  {
   "cell_type": "code",
   "execution_count": null,
   "metadata": {
    "id": "Apo3wMGV-3Va"
   },
   "outputs": [],
   "source": [
    "X = np.mean(A, -1); # Convert RGB to grayscale\n",
    "img = plt.imshow(X)\n",
    "# Take the SVD\n",
    "U, S, VT = np.linalg.svd(X,full_matrices=False)\n",
    "S = np.diag(S)"
   ]
  },
  {
   "cell_type": "code",
   "execution_count": null,
   "metadata": {
    "id": "Hz2hmIsb_ONA"
   },
   "outputs": [],
   "source": [
    "for r in [5, 20, 100]: # Construct approximate image\n",
    "  Xapprox = U[:,:r] @ S[0:r,:r] @ VT[:r,:]\n",
    "  img = plt.imshow(Xapprox, cmap='Greys_r')\n",
    "  plt.show()"
   ]
  },
  {
   "cell_type": "code",
   "execution_count": null,
   "metadata": {
    "id": "UrISkSpv_W8M"
   },
   "outputs": [],
   "source": []
  }
 ],
 "metadata": {
  "colab": {
   "collapsed_sections": [
    "wWjqJGRxiBI9"
   ],
   "provenance": []
  },
  "kernelspec": {
   "display_name": "Python 3 (ipykernel)",
   "language": "python",
   "name": "python3"
  },
  "language_info": {
   "codemirror_mode": {
    "name": "ipython",
    "version": 3
   },
   "file_extension": ".py",
   "mimetype": "text/x-python",
   "name": "python",
   "nbconvert_exporter": "python",
   "pygments_lexer": "ipython3",
   "version": "3.9.18"
  }
 },
 "nbformat": 4,
 "nbformat_minor": 4
}
