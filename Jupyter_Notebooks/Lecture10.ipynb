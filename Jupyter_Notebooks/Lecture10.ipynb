{
  "nbformat": 4,
  "nbformat_minor": 0,
  "metadata": {
    "colab": {
      "provenance": []
    },
    "kernelspec": {
      "name": "python3",
      "display_name": "Python 3"
    },
    "language_info": {
      "name": "python"
    }
  },
  "cells": [
    {
      "cell_type": "markdown",
      "source": [
        "## Lecture 10: Linear Regression"
      ],
      "metadata": {
        "id": "TTP6W3DUgTPN"
      }
    },
    {
      "cell_type": "code",
      "execution_count": 23,
      "metadata": {
        "id": "23Syo3kK2mri"
      },
      "outputs": [],
      "source": [
        "import numpy as np\n",
        "from scipy.optimize import fmin\n",
        "import os\n",
        "\n",
        "import matplotlib.pyplot as plt\n",
        "from matplotlib import rc\n",
        "\n",
        "plt.rcParams['xtick.labelsize']=20      # change the tick label size for x axis\n",
        "plt.rcParams['ytick.labelsize']=20      # change the tick label size for x axis\n",
        "plt.rcParams['axes.linewidth']=1        # change the line width of the axis\n",
        "plt.rcParams['xtick.major.width'] = 3   # change the tick line width of x axis\n",
        "plt.rcParams['ytick.major.width'] = 3   # change the tick line width of y axis\n",
        "rc('text', usetex=False)                # disable LaTeX rendering in plots\n",
        "rc('font',**{'family':'DejaVu Sans'})   # set the font of the plot to be DejaVu Sans"
      ]
    },
    {
      "cell_type": "markdown",
      "source": [
        "### 1. Three different error metrics\n",
        "\n",
        "Let's generate some synthetic data to look at the three different error metrics."
      ],
      "metadata": {
        "id": "nBNplGnBjw21"
      }
    },
    {
      "cell_type": "code",
      "source": [
        "beta1 = 0.5 # True slope\n",
        "beta2 = 2.0\n",
        "x = np.arange(0,10,0.5)\n",
        "y = beta1 * x + beta2 + 0.3*np.random.randn(*x.shape) # Add noise"
      ],
      "metadata": {
        "id": "CKtZ4Q_ogU6K"
      },
      "execution_count": null,
      "outputs": []
    },
    {
      "cell_type": "code",
      "source": [
        "# Let's plot the data\n",
        "plt.plot(x, y, 'o', c='r')"
      ],
      "metadata": {
        "id": "gazrd1tOkLF5"
      },
      "execution_count": null,
      "outputs": []
    },
    {
      "cell_type": "markdown",
      "source": [
        "Let's use the `scipy.optimize.fmin` to minimize the three different kinds of error metrics.\n",
        "\n",
        "`scipy.optimize.fmin` documentation: https://docs.scipy.org/doc/scipy/reference/generated/scipy.optimize.fmin.html\n",
        "\n",
        "To use `scipy.optimize.fmin`, we will need to first define functions for it to minimize, so let's first write out the three error metrics as functions."
      ],
      "metadata": {
        "id": "9vKwvI-Qklrs"
      }
    },
    {
      "cell_type": "code",
      "source": [
        "def E_inf(beta, data):\n",
        "  x, y = data\n",
        "  return np.max(np.abs(beta[0]*x + beta[1]-y))\n",
        "\n",
        "def E_1(beta, data):\n",
        "  x, y = data\n",
        "  return np.sum(np.abs(beta[0]*x + beta[1]-y))\n",
        "\n",
        "def E_2(beta, data):\n",
        "  x, y = data\n",
        "  return np.sum((np.abs(beta[0]*x + beta[1]-y))**2)"
      ],
      "metadata": {
        "id": "W1VZsBw4vkhi"
      },
      "execution_count": null,
      "outputs": []
    },
    {
      "cell_type": "code",
      "source": [
        "beta_start = [1, 1]\n",
        "data = x, y\n",
        "\n",
        "beta_inf = fmin(E_inf, beta_start, args=(data,))\n",
        "beta_1 = fmin(E_1, beta_start, args=(data,))\n",
        "beta_2 = fmin(E_2, beta_start, args=(data,))\n",
        "print(\"Based on infinity norm: \", beta_inf)\n",
        "print(\"Based on 1 norm: \", beta_1)\n",
        "print(\"Based on 2 norm: \", beta_2)\n",
        "print(\"Real beta is: \", beta1, beta2)"
      ],
      "metadata": {
        "id": "jpJS6bBLwcgU"
      },
      "execution_count": null,
      "outputs": []
    },
    {
      "cell_type": "markdown",
      "source": [
        "Let's now plot the lines"
      ],
      "metadata": {
        "id": "MFWfNVM6x_oX"
      }
    },
    {
      "cell_type": "code",
      "source": [
        "# Let's plot the data\n",
        "plt.plot(x, y, 'o', c='r', label = \"data\")\n",
        "plt.plot(x, x*beta_inf[0]+beta_inf[1], '-.', label = \"E_inf\")\n",
        "plt.plot(x, x*beta_1[0]+beta_1[1], '--', label = \"E_1\")\n",
        "plt.plot(x, x*beta_2[0]+beta_2[1], '-', label = \"E_2\")\n",
        "plt.legend(fontsize = 18)"
      ],
      "metadata": {
        "id": "erxjxKhpyB-A"
      },
      "execution_count": null,
      "outputs": []
    },
    {
      "cell_type": "markdown",
      "source": [
        "### 2. Solving Least Square Analytically using `numpy.linalg.solve`\n",
        "\n",
        "https://numpy.org/doc/stable/reference/generated/numpy.linalg.solve.html\n",
        "\n",
        "First, we need to build our $Ax=b$ equation"
      ],
      "metadata": {
        "id": "PDcmV7pKw4-A"
      }
    },
    {
      "cell_type": "code",
      "source": [
        "A = np.array([[np.sum(x**2), np.sum(x)],\n",
        "              [np.sum(x), len(x)]])\n",
        "b = np.array([[np.sum(x*y)],\n",
        "              [np.sum(y)]])\n",
        "beta = np.linalg.solve(A, b)\n",
        "print(A)\n",
        "print(b)\n",
        "print(beta)\n",
        "print(beta_2)"
      ],
      "metadata": {
        "id": "jpgteovikTcZ"
      },
      "execution_count": null,
      "outputs": []
    },
    {
      "cell_type": "markdown",
      "source": [
        "### 3. Fitting Expoential Data\n",
        "\n",
        "We will try two different ways to fit the data, first, we will use `fmin` to directly optimize over the original data set, second, we will use `fmin` to otpimize over the log of the original data set."
      ],
      "metadata": {
        "id": "25BzreXq14Oc"
      }
    },
    {
      "cell_type": "code",
      "source": [
        "beta1 = 0.5\n",
        "beta2 = 2.0\n",
        "x = np.arange(0,10,0.5)\n",
        "y = beta2 * np.exp(x*beta1) + 0.3*np.random.randn(*x.shape) # Add noise"
      ],
      "metadata": {
        "id": "tLR-CLo6zjQQ"
      },
      "execution_count": 24,
      "outputs": []
    },
    {
      "cell_type": "code",
      "source": [
        "beta_start = [1, 1]\n",
        "data = x, y\n",
        "log_data = x, np.log(y)\n",
        "\n",
        "beta_2_exp = fmin(E_2, beta_start, args=(data,))\n",
        "beta_2_log = fmin(E_2, beta_start, args=(log_data,))\n",
        "print(\"Exponential Fit: \", beta_2_exp)\n",
        "print(\"Log Fit: \", beta_2_log[0], np.exp(beta_2_log[1]))\n",
        "\n",
        "plt.plot(x, y, 'o', label = \"Data\")\n",
        "# plt.plot(x, beta_2_exp[1]*np.exp(x*beta_2_exp[0]), label = \"Exponential Fit\")\n",
        "plt.plot(x, np.exp(beta_2_log[1])*np.exp(x*beta_2_log[0]), label = \"Log Fit\")\n",
        "plt.legend(fontsize = 18)"
      ],
      "metadata": {
        "id": "1kHFAG7T2Oup"
      },
      "execution_count": null,
      "outputs": []
    },
    {
      "cell_type": "code",
      "source": [],
      "metadata": {
        "id": "dpN30xUE2yt4"
      },
      "execution_count": null,
      "outputs": []
    }
  ]
}