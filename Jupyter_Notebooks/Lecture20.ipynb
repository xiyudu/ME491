{
  "nbformat": 4,
  "nbformat_minor": 0,
  "metadata": {
    "colab": {
      "provenance": []
    },
    "kernelspec": {
      "name": "python3",
      "display_name": "Python 3"
    },
    "language_info": {
      "name": "python"
    }
  },
  "cells": [
    {
      "cell_type": "markdown",
      "source": [
        "## Lecture 20: Support Vector Machines\n",
        "\n",
        "In this notebook, we are again going to use the Dogs/Cats dataset to learn how to use the `sklearn.svm.SVC` function to classify data."
      ],
      "metadata": {
        "id": "6WvYCrUWX4mX"
      }
    },
    {
      "cell_type": "code",
      "execution_count": 6,
      "metadata": {
        "id": "gEo2IkkUU4GO"
      },
      "outputs": [],
      "source": [
        "import numpy as np\n",
        "import os\n",
        "\n",
        "import matplotlib.pyplot as plt\n",
        "from matplotlib import rc\n",
        "\n",
        "plt.rcParams['xtick.labelsize']=16      # change the tick label size for x axis\n",
        "plt.rcParams['ytick.labelsize']=16      # change the tick label size for x axis\n",
        "plt.rcParams['axes.linewidth']=1        # change the line width of the axis\n",
        "plt.rcParams['xtick.major.width'] = 3   # change the tick line width of x axis\n",
        "plt.rcParams['ytick.major.width'] = 3   # change the tick line width of y axis\n",
        "rc('text', usetex=False)                # disable LaTeX rendering in plots\n",
        "rc('font',**{'family':'DejaVu Sans'})   # set the font of the plot to be DejaVu Sans"
      ]
    },
    {
      "cell_type": "code",
      "source": [
        "from scipy import io\n",
        "from sklearn import svm\n",
        "from sklearn.model_selection import cross_val_score"
      ],
      "metadata": {
        "id": "mwdtnY8mYGgt"
      },
      "execution_count": 3,
      "outputs": []
    },
    {
      "cell_type": "code",
      "source": [
        "from google.colab import drive\n",
        "drive.mount('/content/drive')"
      ],
      "metadata": {
        "id": "KbY1--BLYKh1"
      },
      "execution_count": null,
      "outputs": []
    },
    {
      "cell_type": "markdown",
      "source": [
        "### 1. Prepare dataset for training"
      ],
      "metadata": {
        "id": "KW6V4ZOJYT4A"
      }
    },
    {
      "cell_type": "code",
      "source": [
        "path = \"/content/drive/MyDrive/ME491\"\n",
        "dog_path = os.path.join(path, \"data/dogData_w.mat\")\n",
        "cat_path = os.path.join(path, \"data/catData_w.mat\")\n",
        "dogdata_mat = io.loadmat(dog_path)\n",
        "catdata_mat = io.loadmat(cat_path)\n",
        "dog = dogdata_mat['dog_wave']\n",
        "cat = catdata_mat['cat_wave']\n",
        "\n",
        "DC = np.concatenate((dog, cat), axis = 1)\n",
        "\n",
        "# PCA\n",
        "avgAnimal = np.mean(DC, axis = 1)\n",
        "X = DC - np.tile(avgAnimal, (DC.shape[1],1)).T\n",
        "U, S, VT = np.linalg.svd(X, full_matrices = False)\n",
        "\n",
        "V = VT.T\n",
        "\n",
        "features = np.arange(1,21)\n",
        "xtrain = np.concatenate((V[:60,features], V[80:140,features]))\n",
        "test = np.concatenate((V[60:80,features], V[140:160,features]))\n",
        "\n",
        "label = np.repeat(np.array([1,-1]), 60)\n",
        "truth = np.repeat(np.array([1,-1]), 20)"
      ],
      "metadata": {
        "id": "e1AfpTmFYNB7"
      },
      "execution_count": 27,
      "outputs": []
    },
    {
      "cell_type": "markdown",
      "source": [
        "### 2. Perform SVM\n",
        "`sklearn.svm.SVC` documentation: https://scikit-learn.org/stable/modules/generated/sklearn.svm.SVC.html\n",
        "`sklearn.model_selection.cross_val_score` documentation: https://scikit-learn.org/stable/modules/generated/sklearn.model_selection.cross_val_score.html"
      ],
      "metadata": {
        "id": "n1j-nfuLY64-"
      }
    },
    {
      "cell_type": "code",
      "source": [
        "Mdl = svm.SVC(kernel='linear', gamma='auto').fit(xtrain, label)\n",
        "test_labels = Mdl.predict(test)\n",
        "\n",
        "CMdl = cross_val_score(Mdl, xtrain, label, cv = 6) #cross-validate the model\n",
        "print(CMdl)\n",
        "classLoss = 1 - np.mean(CMdl) # average error over all cross-validation iterations"
      ],
      "metadata": {
        "id": "txOpEB5iZHY6"
      },
      "execution_count": null,
      "outputs": []
    },
    {
      "cell_type": "markdown",
      "source": [
        "### 3. SVM Performance Analysis (let's code together)\n",
        "Here, we want to see how SVM performs for the three different Kernels:\n",
        "1. Linear\n",
        "2. Polynomial\n",
        "3. Radial Basis Function\n",
        "and also how SVM performs for different number of features (0, 19).\n",
        "\n",
        "At the end, we want to make a bar plot for the accuracy of all three methods as a function of number of features.\n",
        "\n",
        "Let's code this together.\n"
      ],
      "metadata": {
        "id": "OQvxf82xajxd"
      }
    },
    {
      "cell_type": "code",
      "source": [],
      "metadata": {
        "id": "nLgjaKtMZZsS"
      },
      "execution_count": null,
      "outputs": []
    }
  ]
}