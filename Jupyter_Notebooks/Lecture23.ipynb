{
  "nbformat": 4,
  "nbformat_minor": 0,
  "metadata": {
    "colab": {
      "provenance": []
    },
    "kernelspec": {
      "name": "python3",
      "display_name": "Python 3"
    },
    "language_info": {
      "name": "python"
    }
  },
  "cells": [
    {
      "cell_type": "markdown",
      "source": [
        "## Lecture 23: Single-Layer Neural Networks\n",
        "\n",
        "We will start discussing Ch. 6 of the textbook today.  Topics we will cover from Ch.6 are:\n",
        "* 6.1 Single-Layer Networks\n",
        "* 6.2 Multi-Layer Networks and Activation Functions\n",
        "* 6.3 The Backpropagation Algorithm\n",
        "* 6.4 The Stochastic Gradient Descent Algorithm\n",
        "* 6.6 Neural Networks for Dynamical Systems\n",
        "\n",
        "Today, we will explore how to build a single-layer neural network"
      ],
      "metadata": {
        "id": "CXk9t4YSgMDY"
      }
    },
    {
      "cell_type": "code",
      "execution_count": 1,
      "metadata": {
        "id": "HRPRcNThfWbK"
      },
      "outputs": [],
      "source": [
        "import numpy as np\n",
        "import os\n",
        "\n",
        "import matplotlib.pyplot as plt\n",
        "from matplotlib import rc\n",
        "\n",
        "plt.rcParams['xtick.labelsize']=16      # change the tick label size for x axis\n",
        "plt.rcParams['ytick.labelsize']=16      # change the tick label size for x axis\n",
        "plt.rcParams['axes.linewidth']=1        # change the line width of the axis\n",
        "plt.rcParams['xtick.major.width'] = 3   # change the tick line width of x axis\n",
        "plt.rcParams['ytick.major.width'] = 3   # change the tick line width of y axis\n",
        "rc('text', usetex=False)                # disable LaTeX rendering in plots\n",
        "rc('font',**{'family':'DejaVu Sans'})   # set the font of the plot to be DejaVu Sans"
      ]
    },
    {
      "cell_type": "code",
      "source": [
        "from scipy import io\n",
        "from sklearn import linear_model"
      ],
      "metadata": {
        "id": "ehv05fHthCJe"
      },
      "execution_count": 16,
      "outputs": []
    },
    {
      "cell_type": "code",
      "source": [
        "from google.colab import drive\n",
        "drive.mount('/content/drive')"
      ],
      "metadata": {
        "colab": {
          "base_uri": "https://localhost:8080/"
        },
        "id": "1iX3oKMRgojA",
        "outputId": "d0b862ac-8450-4c58-bf07-b09ec53f3408"
      },
      "execution_count": 2,
      "outputs": [
        {
          "output_type": "stream",
          "name": "stdout",
          "text": [
            "Mounted at /content/drive\n"
          ]
        }
      ]
    },
    {
      "cell_type": "markdown",
      "source": [
        "### 0. Load the Dog/Cat Wavelet Data"
      ],
      "metadata": {
        "id": "dJGv3b85gq7J"
      }
    },
    {
      "cell_type": "code",
      "source": [
        "path = \"/content/drive/MyDrive/ME491\"\n",
        "\n",
        "dog_w_path = os.path.join(path, \"data/dogData_w.mat\")\n",
        "cat_w_path = os.path.join(path, \"data/catData_w.mat\")\n",
        "dogwdata_mat = io.loadmat(dog_w_path)\n",
        "catwdata_mat = io.loadmat(cat_w_path)\n",
        "dog_w = dogwdata_mat['dog_wave']\n",
        "cat_w = catwdata_mat['cat_wave']"
      ],
      "metadata": {
        "id": "CKko6I5ogsuF"
      },
      "execution_count": 6,
      "outputs": []
    },
    {
      "cell_type": "markdown",
      "source": [
        "### 1. Build Data for the Single Layer Network\n",
        "\n",
        "Here we will just use all the information from the input image, and we will not first extract principal components."
      ],
      "metadata": {
        "id": "ZUUDwIbOh6JA"
      }
    },
    {
      "cell_type": "code",
      "source": [
        "CD = np.concatenate((dog_w, cat_w),axis=1)\n",
        "\n",
        "train = np.concatenate((dog_w[:, :60], cat_w[:, :60]), axis=1)\n",
        "test = np.concatenate((dog_w[:, 60:80], cat_w[:, 60:80]), axis=1)\n",
        "label = np.repeat(np.array([1, -1]), 60)"
      ],
      "metadata": {
        "id": "kli9lbkeg_q3"
      },
      "execution_count": 10,
      "outputs": []
    },
    {
      "cell_type": "markdown",
      "source": [
        "### 2. Find mapping matrix $A$."
      ],
      "metadata": {
        "id": "gVhlkd8KjwNW"
      }
    },
    {
      "cell_type": "code",
      "source": [
        "A = label @ np.linalg.pinv(train)\n",
        "\n",
        "fig = plt.figure(num = 1, figsize = (10, 4), dpi = 80, facecolor = None, edgecolor = 'k')\n",
        "plt.bar(range(len(test[1])), A @ test)"
      ],
      "metadata": {
        "id": "wztFnXzSiCSW"
      },
      "execution_count": null,
      "outputs": []
    },
    {
      "cell_type": "code",
      "source": [
        "test_labels = np.sign(A @ test)\n",
        "\n",
        "fig = plt.figure(num = 1, figsize = (10, 4), dpi = 80, facecolor = None, edgecolor = 'k')\n",
        "plt.bar(range(len(test[1])), test_labels)"
      ],
      "metadata": {
        "id": "47sYSlt3j5dA"
      },
      "execution_count": null,
      "outputs": []
    },
    {
      "cell_type": "markdown",
      "source": [
        "Now, let's use LASSO to get a sparsity-promoting matrix"
      ],
      "metadata": {
        "id": "xNQ-4SCXmW1Q"
      }
    },
    {
      "cell_type": "code",
      "source": [
        "lasso = linear_model.Lasso().fit(train.T, label)\n",
        "A_lasso = lasso.coef_\n",
        "test_labels_lasso = np.sign(A_lasso @ test)"
      ],
      "metadata": {
        "id": "hMtukT_BloMT"
      },
      "execution_count": 17,
      "outputs": []
    },
    {
      "cell_type": "code",
      "source": [
        "fig = plt.figure(num = 1, figsize = (10, 4), dpi = 80, facecolor = None, edgecolor = 'k')\n",
        "plt.bar(range(len(test[1])), test_labels_lasso)"
      ],
      "metadata": {
        "id": "iYqObZaDnWjJ"
      },
      "execution_count": null,
      "outputs": []
    },
    {
      "cell_type": "markdown",
      "source": [
        "### 3. Loading Comparison"
      ],
      "metadata": {
        "id": "YBBwBVKencIK"
      }
    },
    {
      "cell_type": "code",
      "source": [
        "fig, axs = plt.subplots(2, 1)\n",
        "\n",
        "axs[0].bar(range(len(A)), A, label = \"pinv\")\n",
        "axs[0].legend()\n",
        "axs[1].bar(range(len(A_lasso)), A_lasso, label = \"LASSO\")\n",
        "axs[1].legend()\n",
        "\n",
        "plt.show()"
      ],
      "metadata": {
        "id": "Ev9KdGJ-naKw"
      },
      "execution_count": null,
      "outputs": []
    },
    {
      "cell_type": "code",
      "source": [
        "fig, axs = plt.subplots(2,1)\n",
        "fig.set_size_inches(5, 10)\n",
        "axs = axs.reshape(-1)\n",
        "A2 = np.reshape(A, (32, 32))\n",
        "A2_lasso = np.reshape(A_lasso, (32, 32))\n",
        "axs[0].imshow(A2.T, vmin = -0.002, vmax = 0.002, cmap='Greys_r')\n",
        "axs[0].axis('off')\n",
        "axs[1].imshow(A2_lasso.T, vmin = -0.005, vmax = 0.005, cmap='Greys_r')\n",
        "axs[1].axis('off')\n",
        "\n",
        "plt.show()"
      ],
      "metadata": {
        "id": "Jb87w3O5nxju"
      },
      "execution_count": null,
      "outputs": []
    },
    {
      "cell_type": "code",
      "source": [],
      "metadata": {
        "id": "M5ky_WCboLDF"
      },
      "execution_count": null,
      "outputs": []
    }
  ]
}