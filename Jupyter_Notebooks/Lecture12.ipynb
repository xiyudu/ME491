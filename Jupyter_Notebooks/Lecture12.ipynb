{
  "nbformat": 4,
  "nbformat_minor": 0,
  "metadata": {
    "colab": {
      "provenance": []
    },
    "kernelspec": {
      "name": "python3",
      "display_name": "Python 3"
    },
    "language_info": {
      "name": "python"
    }
  },
  "cells": [
    {
      "cell_type": "markdown",
      "source": [
        "## Lecture 12: Over and Under Determined Systems"
      ],
      "metadata": {
        "id": "sooXjX72OIJD"
      }
    },
    {
      "cell_type": "code",
      "execution_count": 2,
      "metadata": {
        "id": "J0DQknZUAux8"
      },
      "outputs": [],
      "source": [
        "import numpy as np\n",
        "import os\n",
        "\n",
        "import matplotlib.pyplot as plt\n",
        "from matplotlib import rc\n",
        "from matplotlib.image import imread\n",
        "\n",
        "plt.rcParams['xtick.labelsize']=20      # change the tick label size for x axis\n",
        "plt.rcParams['ytick.labelsize']=20      # change the tick label size for x axis\n",
        "plt.rcParams['axes.linewidth']=1        # change the line width of the axis\n",
        "plt.rcParams['xtick.major.width'] = 3   # change the tick line width of x axis\n",
        "plt.rcParams['ytick.major.width'] = 3   # change the tick line width of y axis\n",
        "rc('text', usetex=False)                # disable LaTeX rendering in plots\n",
        "rc('font',**{'family':'DejaVu Sans'})   # set the font of the plot to be DejaVu Sans"
      ]
    },
    {
      "cell_type": "code",
      "source": [
        "from scipy.optimize import minimize\n",
        "from scipy.optimize import fmin"
      ],
      "metadata": {
        "id": "dmp_X-7KOz7P"
      },
      "execution_count": 3,
      "outputs": []
    },
    {
      "cell_type": "markdown",
      "source": [
        "### 1. Over determined systems"
      ],
      "metadata": {
        "id": "JJZT4Ky2OcMN"
      }
    },
    {
      "cell_type": "markdown",
      "source": [
        "#### a. 1D system\n",
        "\n",
        "In this example, we show how adding a $l_1$ norm penalization promotes sparsity of the solution."
      ],
      "metadata": {
        "id": "_y0HVIzJJUZh"
      }
    },
    {
      "cell_type": "code",
      "source": [
        "# Overdetermined\n",
        "n = 500\n",
        "m = 100\n",
        "A = np.random.rand(n, m)\n",
        "b = np.random.rand(n)\n",
        "\n",
        "xdag = np.linalg.pinv(A) @ b\n",
        "\n",
        "lam = np.array([0, 0.1, 0.5])\n",
        "\n",
        "# here, we add a l1 norm penalization\n",
        "def reg_norm(x,A,b,lam):\n",
        "  return np.linalg.norm(A@x-b,ord=2) + lam*np.linalg.norm(x,ord=1)\n",
        "\n",
        "fig, axs = plt.subplots(len(lam),2)\n",
        "fig.set_size_inches(10, 8)\n",
        "for j in range(len(lam)):\n",
        "  res = minimize(reg_norm, args=(A,b,lam[j]), x0=xdag)\n",
        "  x = res.x\n",
        "  axs[j,0].bar(range(m),x)\n",
        "  axs[j,0].set_ylabel('lam='+str(lam[j]), fontsize = 18)\n",
        "  axs[j,1].hist(x,20)\n",
        "  axs[j,1].set_xlim(-0.15,0.15)\n"
      ],
      "metadata": {
        "id": "RsmymukAOLpE"
      },
      "execution_count": null,
      "outputs": []
    },
    {
      "cell_type": "markdown",
      "source": [
        "#### 2D system"
      ],
      "metadata": {
        "id": "PTgS4pWYJ0jY"
      }
    },
    {
      "cell_type": "code",
      "source": [
        "# overdetermined\n",
        "n = 30\n",
        "m = 6\n",
        "p = 2\n",
        "A = np.random.rand(n,m)\n",
        "b = np.random.rand(n,p)\n",
        "lam = np.array([0,0.1])\n",
        "\n",
        "xdag = np.linalg.pinv(A) @ b\n",
        "xdag = xdag.reshape(-1)\n",
        "\n",
        "def reg_norm_2d(x,A,b,lam,m,p):\n",
        "  # scipy minimize() does not accept multidimensional x\n",
        "  # To get around this, we pass x as a vector and reshape it\n",
        "  x = np.reshape(x,(m,p))\n",
        "  return np.linalg.norm(A@x-b,ord=2) + lam*np.linalg.norm(x,ord=1)\n",
        "\n",
        "\n",
        "fig,axs = plt.subplots(len(lam),1)\n",
        "fig.set_size_inches(10, 8)\n",
        "for j in range(len(lam)):\n",
        "  res = minimize(reg_norm_2d, args=(A,b,lam[j],m,p), x0=xdag)\n",
        "  x = res.x\n",
        "  x = x.reshape(m,p)\n",
        "  x_pcolor = axs[j].pcolor(x.T,cmap='hot')\n",
        "  fig.colorbar(x_pcolor, ax=axs[j])\n",
        "  axs[j].set_ylabel('lam='+str(lam[j]))"
      ],
      "metadata": {
        "id": "3U5WkurRJD8U"
      },
      "execution_count": null,
      "outputs": []
    },
    {
      "cell_type": "markdown",
      "source": [
        "### 2. Under determined system"
      ],
      "metadata": {
        "id": "MZ8qef7iN9-L"
      }
    },
    {
      "cell_type": "code",
      "source": [
        "# Underdetermined\n",
        "n = 20\n",
        "m = 100\n",
        "A = np.random.rand(n,m)\n",
        "b = np.random.rand(n)\n",
        "\n",
        "def two_norm(x):\n",
        "  return np.linalg.norm(x,ord=2)\n",
        "\n",
        "constr = ({'type': 'eq', 'fun': lambda x:  A @ x - b})\n",
        "x0 = np.random.rand(m)\n",
        "res = minimize(two_norm, x0, method='SLSQP', constraints=constr)\n",
        "x2 = res.x\n",
        "\n",
        "def one_norm(x):\n",
        "  return np.linalg.norm(x,ord=1)\n",
        "\n",
        "res = minimize(one_norm, x0, method='SLSQP', constraints=constr)\n",
        "x1 = res.x"
      ],
      "metadata": {
        "id": "Vs5_i7ENOuay"
      },
      "execution_count": 12,
      "outputs": []
    },
    {
      "cell_type": "code",
      "source": [
        "fig,axs = plt.subplots(2,2)\n",
        "fig.set_size_inches(10, 8)\n",
        "axs = axs.reshape(-1)\n",
        "\n",
        "axs[0].bar(range(m), x2)\n",
        "axs[0].set_title('x2', fontsize = 18)\n",
        "axs[1].bar(range(m), x1)\n",
        "axs[1].set_title('x1', fontsize = 18)\n",
        "\n",
        "axs[2].hist(x2,40)\n",
        "axs[3].hist(x1,40)"
      ],
      "metadata": {
        "id": "ZknYHIdUOOG_"
      },
      "execution_count": null,
      "outputs": []
    },
    {
      "cell_type": "code",
      "source": [],
      "metadata": {
        "id": "Migog9z_OTX-"
      },
      "execution_count": null,
      "outputs": []
    }
  ]
}