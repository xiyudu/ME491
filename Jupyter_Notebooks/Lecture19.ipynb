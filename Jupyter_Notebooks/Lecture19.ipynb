{
  "nbformat": 4,
  "nbformat_minor": 0,
  "metadata": {
    "colab": {
      "provenance": []
    },
    "kernelspec": {
      "name": "python3",
      "display_name": "Python 3"
    },
    "language_info": {
      "name": "python"
    }
  },
  "cells": [
    {
      "cell_type": "markdown",
      "source": [
        "## Lecture 19: Supervised Learning and Linear Discriminants"
      ],
      "metadata": {
        "id": "N2aW4dUcLXmn"
      }
    },
    {
      "cell_type": "code",
      "execution_count": 1,
      "metadata": {
        "id": "420q3yi6Kzs3"
      },
      "outputs": [],
      "source": [
        "import numpy as np\n",
        "import os\n",
        "\n",
        "import matplotlib.pyplot as plt\n",
        "from matplotlib import rc\n",
        "\n",
        "plt.rcParams['xtick.labelsize']=16      # change the tick label size for x axis\n",
        "plt.rcParams['ytick.labelsize']=16      # change the tick label size for x axis\n",
        "plt.rcParams['axes.linewidth']=1        # change the line width of the axis\n",
        "plt.rcParams['xtick.major.width'] = 3   # change the tick line width of x axis\n",
        "plt.rcParams['ytick.major.width'] = 3   # change the tick line width of y axis\n",
        "rc('text', usetex=False)                # disable LaTeX rendering in plots\n",
        "rc('font',**{'family':'DejaVu Sans'})   # set the font of the plot to be DejaVu Sans"
      ]
    },
    {
      "cell_type": "code",
      "source": [
        "from scipy import io\n",
        "from sklearn.discriminant_analysis import LinearDiscriminantAnalysis\n",
        "from sklearn.discriminant_analysis import QuadraticDiscriminantAnalysis"
      ],
      "metadata": {
        "id": "69St0bwxVp53"
      },
      "execution_count": 7,
      "outputs": []
    },
    {
      "cell_type": "code",
      "source": [
        "from google.colab import drive\n",
        "drive.mount('/content/drive')"
      ],
      "metadata": {
        "id": "_SfpOpdTVtBY"
      },
      "execution_count": null,
      "outputs": []
    },
    {
      "cell_type": "markdown",
      "source": [
        "### 1. Load Dog/Cat Wavelet Data"
      ],
      "metadata": {
        "id": "DSjIXDnDV1W0"
      }
    },
    {
      "cell_type": "code",
      "source": [
        "path = \"/content/drive/MyDrive/ME491\"\n",
        "dog_path = os.path.join(path, \"data/dogData_w.mat\")\n",
        "cat_path = os.path.join(path, \"data/catData_w.mat\")\n",
        "dogdata_mat = io.loadmat(dog_path)\n",
        "catdata_mat = io.loadmat(cat_path)\n",
        "dog = dogdata_mat['dog_wave']\n",
        "cat = catdata_mat['cat_wave']"
      ],
      "metadata": {
        "id": "G_0dlQYSVuoE"
      },
      "execution_count": 4,
      "outputs": []
    },
    {
      "cell_type": "markdown",
      "source": [
        "### 2. Perform PCA on the dataset"
      ],
      "metadata": {
        "id": "DA64t4dEWL_o"
      }
    },
    {
      "cell_type": "code",
      "source": [
        "DC = np.concatenate((dog, cat), axis = 1)\n",
        "\n",
        "# PCA\n",
        "avgAnimal = np.mean(DC, axis = 1)\n",
        "X = DC - np.tile(avgAnimal, (DC.shape[1],1)).T\n",
        "U, S, VT = np.linalg.svd(X, full_matrices = False)"
      ],
      "metadata": {
        "id": "gd306B0TWGQt"
      },
      "execution_count": 5,
      "outputs": []
    },
    {
      "cell_type": "markdown",
      "source": [
        "Let's now plot the loadings of PCA_2 and PCA_4 (note: in Python the indices are 1 and 3)"
      ],
      "metadata": {
        "id": "cKmc9soo5-d9"
      }
    },
    {
      "cell_type": "code",
      "source": [
        "plt.plot(VT[1, :80], VT[3, :80], 'ro', markerfacecolor=(0,1,0.2), markeredgecolor='k', ms=12, label = \"Dog\")\n",
        "plt.plot(VT[1, 80:], VT[3, 80:],' bo', markerfacecolor=(0.9,0,1), markeredgecolor='k', ms=12, label = \"Cat\")\n",
        "plt.xlabel(\"PCA2\", fontsize = 18)\n",
        "plt.ylabel(\"PCA4\", fontsize = 18)"
      ],
      "metadata": {
        "id": "Uq3Hi2xDWTt5"
      },
      "execution_count": null,
      "outputs": []
    },
    {
      "cell_type": "markdown",
      "source": [
        "### 3. Build training dataset for LDA\n",
        "We are going to use the first 60 dog and cat pictures as our training dataset to build LDA. We will use the remaining 20 dog and cat pictures to be our testing dataset."
      ],
      "metadata": {
        "id": "O-ckIfdM8n3Q"
      }
    },
    {
      "cell_type": "code",
      "source": [
        "xtrain = np.concatenate((VT[np.array([1,3]), :60].T, VT[np.array([1,3]), 80:140].T))\n",
        "# training data should have the shape of number of points x number of features per point\n",
        "label = np.repeat(np.array([1,-1]),60)\n",
        "test = np.concatenate((VT[np.array([1,3]), 60:80].T, VT[np.array([1,3]), 140:].T))"
      ],
      "metadata": {
        "id": "5h-OJGBhWa3B"
      },
      "execution_count": 13,
      "outputs": []
    },
    {
      "cell_type": "markdown",
      "source": [
        "### 4. Perform LDA"
      ],
      "metadata": {
        "id": "89IU61KZgMN4"
      }
    },
    {
      "cell_type": "code",
      "source": [
        "lda = LinearDiscriminantAnalysis()\n",
        "test_class = lda.fit(xtrain, label).predict(test)\n",
        "\n",
        "truth = np.repeat(np.array([1,-1]),20)\n",
        "\n",
        "fig = plt.figure(figsize = (10, 4))\n",
        "plt.bar(range(40), test_class, alpha = 0.5, label = \"prediction\")\n",
        "plt.bar(range(40), truth, alpha = 0.5, label = \"ground truth\")\n",
        "plt.legend(fontsize = 18)"
      ],
      "metadata": {
        "id": "RztZFCkjfvWe"
      },
      "execution_count": null,
      "outputs": []
    },
    {
      "cell_type": "markdown",
      "source": [
        "### 5. Different training features\n",
        "\n",
        "Let's now try to use just PCA2 to see how well it does"
      ],
      "metadata": {
        "id": "kWyhIKv0hIhJ"
      }
    },
    {
      "cell_type": "code",
      "source": [],
      "metadata": {
        "id": "iUXP2T_ZgdgU"
      },
      "execution_count": null,
      "outputs": []
    },
    {
      "cell_type": "markdown",
      "source": [
        "### 6. Cross-Validation\n"
      ],
      "metadata": {
        "id": "XkgO9uXCh17o"
      }
    },
    {
      "cell_type": "code",
      "source": [
        "E = np.zeros(100)\n",
        "\n",
        "for jj in range(100):\n",
        "  r1 = np.random.permutation(80)\n",
        "  r2 = np.random.permutation(80)\n",
        "  ind1 = r1[:60]\n",
        "  ind2 = r2[:60]+60\n",
        "  ind1t = r1[60:80]\n",
        "  ind2t = r2[60:80]+60\n",
        "\n",
        "  xtrain = np.concatenate((VT[np.array([1,3]), ind1[:, np.newaxis]], VT[np.array([1,3]), ind2[:, np.newaxis]]))\n",
        "  test = np.concatenate((VT[np.array([1,3]), ind1t[:, np.newaxis]], VT[np.array([1,3]), ind2t[:, np.newaxis]]))\n",
        "\n",
        "  label = np.repeat(np.array([1,-1]),60)\n",
        "\n",
        "  lda = LinearDiscriminantAnalysis()\n",
        "  test_class = lda.fit(xtrain, label).predict(test)\n",
        "\n",
        "  truth = np.repeat(np.array([1, -1]), 20)\n",
        "  E[jj] = 100*(1 - np.sum(np.abs(test_class-truth))/80)\n",
        "\n",
        "plt.bar(range(100), E, color=(0.5,0.5,0.5))\n",
        "plt.plot(range(100), np.mean(E)*np.ones(100), 'r:', linewidth=3)\n",
        "plt.show()"
      ],
      "metadata": {
        "id": "NwiVPJZohY28"
      },
      "execution_count": null,
      "outputs": []
    },
    {
      "cell_type": "markdown",
      "source": [
        "### 7. In-Class Exercise\n",
        "\n",
        "Let's now practice everything using the Dog/Cat Dataset in image space."
      ],
      "metadata": {
        "id": "XE2UWBtgmIfd"
      }
    },
    {
      "cell_type": "code",
      "source": [],
      "metadata": {
        "id": "pZ8qjEfXiMRZ"
      },
      "execution_count": null,
      "outputs": []
    }
  ]
}