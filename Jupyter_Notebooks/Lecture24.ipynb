{
  "nbformat": 4,
  "nbformat_minor": 0,
  "metadata": {
    "colab": {
      "provenance": []
    },
    "kernelspec": {
      "name": "python3",
      "display_name": "Python 3"
    },
    "language_info": {
      "name": "python"
    }
  },
  "cells": [
    {
      "cell_type": "markdown",
      "source": [
        "## Lecture 24: Multi-Layer Networks and Activation Functions\n",
        "\n",
        "Today, we will use `sklearn.neural_network.MLPClassifier` to build a neural network with nonlinear activation functions to distinguish between cats and dogs."
      ],
      "metadata": {
        "id": "FzxeKZ1pYv6k"
      }
    },
    {
      "cell_type": "code",
      "execution_count": 1,
      "metadata": {
        "id": "14BZCwXDOeaw"
      },
      "outputs": [],
      "source": [
        "import numpy as np\n",
        "import os\n",
        "\n",
        "import matplotlib.pyplot as plt\n",
        "from matplotlib import rc\n",
        "\n",
        "plt.rcParams['xtick.labelsize']=16      # change the tick label size for x axis\n",
        "plt.rcParams['ytick.labelsize']=16      # change the tick label size for x axis\n",
        "plt.rcParams['axes.linewidth']=1        # change the line width of the axis\n",
        "plt.rcParams['xtick.major.width'] = 3   # change the tick line width of x axis\n",
        "plt.rcParams['ytick.major.width'] = 3   # change the tick line width of y axis\n",
        "rc('text', usetex=False)                # disable LaTeX rendering in plots\n",
        "rc('font',**{'family':'DejaVu Sans'})   # set the font of the plot to be DejaVu Sans"
      ]
    },
    {
      "cell_type": "code",
      "source": [
        "from scipy import io\n",
        "from sklearn.neural_network import MLPClassifier"
      ],
      "metadata": {
        "id": "TmIzJrAIZAh0"
      },
      "execution_count": 2,
      "outputs": []
    },
    {
      "cell_type": "code",
      "source": [
        "from google.colab import drive\n",
        "drive.mount('/content/drive')"
      ],
      "metadata": {
        "id": "3d5KNEOGZFZP",
        "colab": {
          "base_uri": "https://localhost:8080/"
        },
        "outputId": "0d00ba1b-08d7-4c05-bead-4ac4c2b63086"
      },
      "execution_count": 3,
      "outputs": [
        {
          "output_type": "stream",
          "name": "stdout",
          "text": [
            "Mounted at /content/drive\n"
          ]
        }
      ]
    },
    {
      "cell_type": "markdown",
      "source": [
        "### 0. Load the Dog/Cat Wavelet Data"
      ],
      "metadata": {
        "id": "yvD7vOB7pBzh"
      }
    },
    {
      "cell_type": "code",
      "source": [
        "path = \"/content/drive/MyDrive/ME491\"\n",
        "\n",
        "dog_w_path = os.path.join(path, \"data/dogData_w.mat\")\n",
        "cat_w_path = os.path.join(path, \"data/catData_w.mat\")\n",
        "dogwdata_mat = io.loadmat(dog_w_path)\n",
        "catwdata_mat = io.loadmat(cat_w_path)\n",
        "dog_w = dogwdata_mat['dog_wave']\n",
        "cat_w = catwdata_mat['cat_wave']"
      ],
      "metadata": {
        "id": "wz9f5yiEaqon"
      },
      "execution_count": 4,
      "outputs": []
    },
    {
      "cell_type": "markdown",
      "source": [
        "### 1. Prepare training data and label\n",
        "\n",
        "We are going to use the first 40 dog and cat pictures as training data, and train a neural network to predict the other 40 dog and cat pictures."
      ],
      "metadata": {
        "id": "r0x90kf-pLwQ"
      }
    },
    {
      "cell_type": "code",
      "source": [
        "train_data = np.concatenate((dog_w[:, :40], cat_w[:, :40]), axis=1)\n",
        "test_data = np.concatenate((dog_w[:, 40:80], cat_w[:, 40:80]), axis=1)\n",
        "label = np.repeat(np.array([1, -1]), 40)\n",
        "train_data = train_data.T"
      ],
      "metadata": {
        "id": "3biwpFeLZGtF"
      },
      "execution_count": 70,
      "outputs": []
    },
    {
      "cell_type": "markdown",
      "source": [
        "### 2. Build a Neural Network\n",
        "\n",
        "For simplicity, we will use `sklearn.neural_network.MLPClassifier` to build a neural network.\n",
        "\n",
        "Documentation: https://scikit-learn.org/stable/modules/generated/sklearn.neural_network.MLPClassifier.html#sklearn.neural_network.MLPClassifier\n",
        "\n",
        "General sklearn neural network documentation:\n",
        "https://scikit-learn.org/stable/modules/neural_networks_supervised.html"
      ],
      "metadata": {
        "id": "nlripjKxbksj"
      }
    },
    {
      "cell_type": "code",
      "source": [
        "clf = MLPClassifier(activation = 'relu',\n",
        "                    solver='adam', alpha=1e-5,\n",
        "                    hidden_layer_sizes=(10,3),\n",
        "                    max_iter=1000, random_state=1)\n",
        "clf.fit(train, label)"
      ],
      "metadata": {
        "id": "JiWUPf8_aiEU"
      },
      "execution_count": null,
      "outputs": []
    },
    {
      "cell_type": "markdown",
      "source": [
        "### 3. Plot Prediction and Loss Function"
      ],
      "metadata": {
        "id": "BQUKFffzbp1G"
      }
    },
    {
      "cell_type": "code",
      "source": [
        "prediction = clf.predict(test.T)\n",
        "\n",
        "truth = np.repeat(np.array([1, -1]), 40)\n",
        "\n",
        "fig = plt.figure(figsize = (10, 4))\n",
        "plt.bar(range(80), prediction, alpha = 0.5, label = \"prediction\")\n",
        "plt.bar(range(80), truth, alpha = 0.5, label = \"ground truth\")\n",
        "plt.legend(fontsize = 18)"
      ],
      "metadata": {
        "id": "UwZC9YlnbsOL"
      },
      "execution_count": null,
      "outputs": []
    },
    {
      "cell_type": "code",
      "source": [
        "plt.plot(clf.loss_curve_)"
      ],
      "metadata": {
        "id": "JDII2Py7cHa7"
      },
      "execution_count": null,
      "outputs": []
    },
    {
      "cell_type": "markdown",
      "source": [
        "You can also look at the coefficients for every layer."
      ],
      "metadata": {
        "id": "m2bzGyC13IhN"
      }
    },
    {
      "cell_type": "code",
      "source": [
        "coef = clf.coefs_\n",
        "print(coef[0].shape)"
      ],
      "metadata": {
        "id": "A37ErkXFeDZW"
      },
      "execution_count": null,
      "outputs": []
    },
    {
      "cell_type": "markdown",
      "source": [
        "### 4. Building NN with TensorFlow\n",
        "\n",
        "TF Tutorials: https://www.tensorflow.org/tutorials"
      ],
      "metadata": {
        "id": "mxlqim_C3MF2"
      }
    },
    {
      "cell_type": "code",
      "source": [
        "import tensorflow as tf"
      ],
      "metadata": {
        "id": "WZVqODjlz0kY"
      },
      "execution_count": 28,
      "outputs": []
    },
    {
      "cell_type": "code",
      "source": [
        "model = tf.keras.models.Sequential([\n",
        "  tf.keras.layers.Input(shape=(1024,)),\n",
        "  tf.keras.layers.Dense(128, activation='relu'),\n",
        "  tf.keras.layers.Dropout(0.2),\n",
        "  tf.keras.layers.Dense(2)\n",
        "])"
      ],
      "metadata": {
        "id": "stGrAfJwxZLP"
      },
      "execution_count": 38,
      "outputs": []
    },
    {
      "cell_type": "code",
      "source": [
        "loss_fn = tf.keras.losses.SparseCategoricalCrossentropy(from_logits=True)\n",
        "model.compile(optimizer='adam',\n",
        "              loss=loss_fn,\n",
        "              metrics=['accuracy'])"
      ],
      "metadata": {
        "id": "6oC4jriRxg3u"
      },
      "execution_count": 39,
      "outputs": []
    },
    {
      "cell_type": "code",
      "source": [
        "tf_label = np.repeat(np.array([0, 1]), 40)\n",
        "model.fit(train, tf_label, epochs=5)"
      ],
      "metadata": {
        "id": "K-OFbLQeyyxm"
      },
      "execution_count": null,
      "outputs": []
    },
    {
      "cell_type": "code",
      "source": [
        "model.evaluate(test.T, tf_label, verbose=2)\n",
        "probability_model = tf.keras.Sequential([model,\n",
        "                                         tf.keras.layers.Softmax()])\n",
        "predictions = probability_model.predict(test.T)\n",
        "test_label = np.argmax(predictions, axis = 1)"
      ],
      "metadata": {
        "id": "z_BoUml3z-vc"
      },
      "execution_count": null,
      "outputs": []
    },
    {
      "cell_type": "code",
      "source": [
        "tf_truth = np.repeat(np.array([0, 1]), 40)\n",
        "\n",
        "fig = plt.figure(figsize = (10, 4))\n",
        "plt.bar(range(80), test_label+0.1, alpha = 0.5, label = \"prediction\")\n",
        "plt.bar(range(80), tf_truth+0.1, alpha = 0.5, label = \"ground truth\")\n",
        "plt.legend(fontsize = 18)"
      ],
      "metadata": {
        "id": "NJRWehMdy02H"
      },
      "execution_count": null,
      "outputs": []
    },
    {
      "cell_type": "markdown",
      "source": [
        "### 5. Building NN with PyTorch\n",
        "\n",
        "Some tutorials:\n",
        "\n",
        "https://www.datacamp.com/tutorial/pytorch-tutorial-building-a-simple-neural-network-from-scratch\n",
        "\n",
        "https://pytorch.org/tutorials/recipes/recipes/defining_a_neural_network.html"
      ],
      "metadata": {
        "id": "oo7l_fDH316h"
      }
    },
    {
      "cell_type": "code",
      "source": [
        "import torch\n",
        "from torch import nn\n",
        "from torch.utils.data import Dataset, DataLoader"
      ],
      "metadata": {
        "id": "82Ski94Q0A1s"
      },
      "execution_count": 98,
      "outputs": []
    },
    {
      "cell_type": "code",
      "source": [
        "class Data(Dataset):\n",
        "  def __init__(self, X, y):\n",
        "      self.X = torch.from_numpy(X.astype(np.float32))\n",
        "      self.y = torch.from_numpy(y.astype(np.float32))\n",
        "      self.len = self.X.shape[0]\n",
        "\n",
        "  def __getitem__(self, index):\n",
        "      return self.X[index], self.y[index]\n",
        "\n",
        "  def __len__(self):\n",
        "      return self.len"
      ],
      "metadata": {
        "id": "VGppuFk0BJz8"
      },
      "execution_count": 99,
      "outputs": []
    },
    {
      "cell_type": "code",
      "source": [
        "batch_size = 64\n",
        "train_data_torch = Data(train_data, tf_label)\n",
        "train_dataloader = DataLoader(train_data_torch, batch_size=batch_size)\n",
        "test_data_torch = Data(test_data.T, tf_label)\n",
        "test_dataloader = DataLoader(test_data_torch, batch_size=batch_size)"
      ],
      "metadata": {
        "id": "p3vjw5Ms9YR8"
      },
      "execution_count": 105,
      "outputs": []
    },
    {
      "cell_type": "code",
      "source": [
        "# Get cpu, gpu or mps device for training.\n",
        "device = (\n",
        "  \"cuda\"\n",
        "  if torch.cuda.is_available()\n",
        "  else \"mps\"\n",
        "  if torch.backends.mps.is_available()\n",
        "  else \"cpu\"\n",
        ")\n",
        "print(f\"Using {device} device\")\n",
        "\n",
        "# Define model\n",
        "class NeuralNetwork(nn.Module):\n",
        "  def __init__(self):\n",
        "    super().__init__()\n",
        "    self.flatten = nn.Flatten()\n",
        "    self.linear_relu_stack = nn.Sequential(\n",
        "        nn.Linear(1024, 1024),\n",
        "        nn.ReLU(),\n",
        "        nn.Linear(1024, 20),\n",
        "        nn.ReLU(),\n",
        "        nn.Linear(20, 2)\n",
        "    )\n",
        "\n",
        "  def forward(self, x):\n",
        "    x = self.flatten(x)\n",
        "    logits = self.linear_relu_stack(x)\n",
        "    return logits\n",
        "\n",
        "model = NeuralNetwork().to(device)\n",
        "print(model)"
      ],
      "metadata": {
        "id": "zKabtjDR0sAX"
      },
      "execution_count": null,
      "outputs": []
    },
    {
      "cell_type": "code",
      "source": [
        "loss_fn = nn.CrossEntropyLoss()\n",
        "optimizer = torch.optim.SGD(model.parameters(), lr=1e-3)"
      ],
      "metadata": {
        "id": "vWerOsCk-ZqD"
      },
      "execution_count": 116,
      "outputs": []
    },
    {
      "cell_type": "code",
      "source": [
        "def train(dataloader, model, loss_fn, optimizer):\n",
        "  size = len(dataloader.dataset)\n",
        "  model.train()\n",
        "  for batch, (X, y) in enumerate(dataloader):\n",
        "    X, y = X.to(device), y.to(device)\n",
        "    # Compute prediction error\n",
        "    pred = model(X)\n",
        "    loss = loss_fn(pred, y.long())\n",
        "\n",
        "    # Backpropagation\n",
        "    loss.backward()\n",
        "    optimizer.step()\n",
        "    optimizer.zero_grad()\n",
        "\n",
        "    if batch % 100 == 0:\n",
        "      loss, current = loss.item(), (batch + 1) * len(X)\n",
        "      print(f\"loss: {loss:>7f}  [{current:>5d}/{size:>5d}]\")"
      ],
      "metadata": {
        "id": "RSfMo_R-0u_C"
      },
      "execution_count": 120,
      "outputs": []
    },
    {
      "cell_type": "code",
      "source": [
        "def test(dataloader, model, loss_fn):\n",
        "  size = len(dataloader.dataset)\n",
        "  num_batches = len(dataloader)\n",
        "  model.eval()\n",
        "  test_loss, correct = 0, 0\n",
        "  label = []\n",
        "  with torch.no_grad():\n",
        "    for X, y in dataloader:\n",
        "      X, y = X.to(device), y.to(device)\n",
        "      pred = model(X)\n",
        "      print(X.shape)\n",
        "      print(pred)\n",
        "      test_loss += loss_fn(pred, y.long()).item()\n",
        "      correct += (pred.argmax(1) == y).type(torch.float).sum().item()\n",
        "      label.append(pred.argmax(1))\n",
        "  test_loss /= num_batches\n",
        "  correct /= size\n",
        "  print(f\"Test Error: \\n Accuracy: {(100*correct):>0.1f}%, Avg loss: {test_loss:>8f} \\n\")\n",
        "  return label"
      ],
      "metadata": {
        "id": "14JAiFPf0ys2"
      },
      "execution_count": 141,
      "outputs": []
    },
    {
      "cell_type": "code",
      "source": [
        "epochs = 1\n",
        "for t in range(epochs):\n",
        "  print(f\"Epoch {t+1}\\n-------------------------------\")\n",
        "  train(train_dataloader, model, loss_fn, optimizer)\n",
        "  label = test(test_dataloader, model, loss_fn)\n",
        "print(\"Done!\")"
      ],
      "metadata": {
        "id": "NxsvjXl095pB"
      },
      "execution_count": null,
      "outputs": []
    },
    {
      "cell_type": "code",
      "source": [
        "print(label)"
      ],
      "metadata": {
        "id": "EnJux6ae_Wx4"
      },
      "execution_count": null,
      "outputs": []
    },
    {
      "cell_type": "code",
      "source": [],
      "metadata": {
        "id": "V0oM9FyYMwNo"
      },
      "execution_count": null,
      "outputs": []
    }
  ]
}