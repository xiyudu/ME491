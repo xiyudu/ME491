{
  "nbformat": 4,
  "nbformat_minor": 0,
  "metadata": {
    "colab": {
      "provenance": []
    },
    "kernelspec": {
      "name": "python3",
      "display_name": "Python 3"
    },
    "language_info": {
      "name": "python"
    }
  },
  "cells": [
    {
      "cell_type": "markdown",
      "source": [
        "## Lecture 8: Eigen Faces"
      ],
      "metadata": {
        "id": "WhlsVHtFEECG"
      }
    },
    {
      "cell_type": "code",
      "execution_count": 1,
      "metadata": {
        "id": "rh1JIoCDECLl"
      },
      "outputs": [],
      "source": [
        "import numpy as np\n",
        "import os\n",
        "\n",
        "import matplotlib.pyplot as plt\n",
        "from matplotlib import rc\n",
        "from matplotlib.image import imread\n",
        "\n",
        "plt.rcParams['xtick.labelsize']=20      # change the tick label size for x axis\n",
        "plt.rcParams['ytick.labelsize']=20      # change the tick label size for x axis\n",
        "plt.rcParams['axes.linewidth']=1        # change the line width of the axis\n",
        "plt.rcParams['xtick.major.width'] = 3   # change the tick line width of x axis\n",
        "plt.rcParams['ytick.major.width'] = 3   # change the tick line width of y axis\n",
        "rc('text', usetex=False)                # disable LaTeX rendering in plots\n",
        "rc('font',**{'family':'DejaVu Sans'})   # set the font of the plot to be DejaVu Sans"
      ]
    },
    {
      "cell_type": "markdown",
      "source": [
        "### 0. Mount Google Drive"
      ],
      "metadata": {
        "id": "9Z6KPobYEMdN"
      }
    },
    {
      "cell_type": "code",
      "source": [
        "from google.colab import drive\n",
        "drive.mount('/content/drive')\n",
        "\n",
        "path = \"/content/drive/MyDrive/ME491\"\n",
        "data_path = os.path.join(path, \"data/allFaces.mat\")"
      ],
      "metadata": {
        "colab": {
          "base_uri": "https://localhost:8080/"
        },
        "id": "1yPMRnMmEH-o",
        "outputId": "4f6f417f-d326-40b4-f9a4-53ef1208e917"
      },
      "execution_count": 2,
      "outputs": [
        {
          "output_type": "stream",
          "name": "stdout",
          "text": [
            "Mounted at /content/drive\n"
          ]
        }
      ]
    },
    {
      "cell_type": "markdown",
      "source": [
        "### 1. Load Face Image Data"
      ],
      "metadata": {
        "id": "T2sOwBqZF7Bp"
      }
    },
    {
      "cell_type": "code",
      "source": [
        "import scipy.io\n",
        "\n",
        "mat_contents = scipy.io.loadmat(data_path)"
      ],
      "metadata": {
        "id": "E0q_IZ2yEU2L"
      },
      "execution_count": 3,
      "outputs": []
    },
    {
      "cell_type": "markdown",
      "source": [
        "When encounter a large dataset, the first to do is to look at it, and have a general understanding of what kind of variables are in it."
      ],
      "metadata": {
        "id": "los3prTaF_iM"
      }
    },
    {
      "cell_type": "code",
      "source": [
        "for key, value in mat_contents.items():\n",
        "  print(key)"
      ],
      "metadata": {
        "id": "TjcUjzA6FSAP"
      },
      "execution_count": null,
      "outputs": []
    },
    {
      "cell_type": "code",
      "source": [
        "faces = mat_contents['faces']\n",
        "n = int(mat_contents['n']) # number of rows for each face\n",
        "m = int(mat_contents['m']) # number of columns for each face\n",
        "nfaces = np.ndarray.flatten(mat_contents['nfaces']) # number of pictures for each person\n",
        "\n",
        "print(nfaces)\n",
        "print(\"Shape of faces is:\", faces.shape)\n",
        "print(sum(nfaces))\n",
        "print(\"Shape of images is:\", n, m)"
      ],
      "metadata": {
        "id": "iUy2P7bwFUaz"
      },
      "execution_count": null,
      "outputs": []
    },
    {
      "cell_type": "code",
      "source": [
        "plt.imshow(faces, cmap = 'Greys_r')\n",
        "plt.axis('off')"
      ],
      "metadata": {
        "id": "rPrWUWuiJcGL"
      },
      "execution_count": null,
      "outputs": []
    },
    {
      "cell_type": "markdown",
      "source": [
        "### 2. Plot All Faces"
      ],
      "metadata": {
        "id": "Tg7Pusdhcj04"
      }
    },
    {
      "cell_type": "code",
      "source": [
        "# Now we want to plot the first image of the first 36 person\n",
        "allPersons = np.zeros((n*6,m*6))\n",
        "count = 0\n",
        "\n",
        "for j in range(6):\n",
        "  for k in range(6):\n",
        "    allPersons[j*n:(j+1)*n, k*m:(k+1)*m] = np.reshape(faces[:,np.sum(nfaces[:count])],(m,n)).T\n",
        "    count += 1\n",
        "\n",
        "img = plt.imshow(allPersons)\n",
        "img.set_cmap('gray')\n",
        "plt.axis('off')"
      ],
      "metadata": {
        "id": "W7z9eYiZGS_R"
      },
      "execution_count": null,
      "outputs": []
    },
    {
      "cell_type": "markdown",
      "source": [
        "To practice playing with `numpy` arrays, let's now plot all faces for a given person"
      ],
      "metadata": {
        "id": "fz7kk1R8WcGC"
      }
    },
    {
      "cell_type": "code",
      "source": [
        "idx = 37 # define which person we want to plot\n",
        "num_pic = nfaces[idx] # find out the number of pictures (different for every person)\n",
        "i = 8 # since number of pictures are around 64, we will have 8 rows\n",
        "j = int(np.ceil(num_pic/i)) # columns is defined by the number of pictures\n",
        "\n",
        "allPhotos = np.zeros((n*i, m*j))\n",
        "count = 0\n",
        "\n",
        "for ii in range(i):\n",
        "  for jj in range(j):\n",
        "    if count >= num_pic:\n",
        "      break\n",
        "    else:\n",
        "      allPhotos[ii*n:(ii+1)*n, jj*m:(jj+1)*m] = np.reshape(faces[:,int(np.sum(nfaces[:idx]))+count],(m,n)).T\n",
        "      count += 1\n",
        "\n",
        "img = plt.imshow(allPhotos, cmap = \"Greys_r\")\n",
        "plt.axis('off')"
      ],
      "metadata": {
        "id": "G0gp0VCyJ7js"
      },
      "execution_count": null,
      "outputs": []
    },
    {
      "cell_type": "markdown",
      "source": [
        "### 3. Compute Eigen Face"
      ],
      "metadata": {
        "id": "XM_vYwPCcrr-"
      }
    },
    {
      "cell_type": "code",
      "source": [
        "# We use the first 36 people for training data\n",
        "trainingFaces = faces[:,:np.sum(nfaces[:36])]\n",
        "avgFace = np.mean(trainingFaces,axis=1) # size n*m by 1\n",
        "\n",
        "# Let's look at the average face\n",
        "plt.imshow(np.reshape(avgFace, (m,n)).T, cmap=\"Greys_r\")\n",
        "plt.axis('off')"
      ],
      "metadata": {
        "id": "jlEasPrxWtT_"
      },
      "execution_count": null,
      "outputs": []
    },
    {
      "cell_type": "markdown",
      "source": [
        "Note: the only time features are every column is in Ch. 1.5, here, features are in rows while every column is a new snapshot, so instead of the V matrix being the principal components, U is the matrix with all the principal components.  In this case, we call them the eigenfaces."
      ],
      "metadata": {
        "id": "Dg1VqbgcOWFs"
      }
    },
    {
      "cell_type": "code",
      "source": [
        "# Compute eigenfaces on mean-subtracted training data\n",
        "X = trainingFaces - np.tile(avgFace,(trainingFaces.shape[1],1)).T\n",
        "U, S, VT = np.linalg.svd(X,full_matrices=0)"
      ],
      "metadata": {
        "id": "bGnwKM8-avSe"
      },
      "execution_count": 7,
      "outputs": []
    },
    {
      "cell_type": "code",
      "source": [
        "print(np.max(U[:,0]))"
      ],
      "metadata": {
        "colab": {
          "base_uri": "https://localhost:8080/"
        },
        "id": "O-PQqwbpJouJ",
        "outputId": "8f25036c-b53a-4a0d-db5f-0515e5268187"
      },
      "execution_count": 15,
      "outputs": [
        {
          "output_type": "stream",
          "name": "stdout",
          "text": [
            "0.0014828167834332656\n"
          ]
        }
      ]
    },
    {
      "cell_type": "code",
      "source": [
        "# Draw the first eigen face\n",
        "plt.imshow(np.reshape(U[:,1],(m,n)).T, vmin = -1e-2, vmax = 1e-2, cmap=\"coolwarm\")\n",
        "plt.axis(\"off\")"
      ],
      "metadata": {
        "id": "ZaSpTCjEcgnk"
      },
      "execution_count": null,
      "outputs": []
    },
    {
      "cell_type": "code",
      "source": [
        "# Now Let's plot the first 10 eigen faces\n",
        "\n",
        "i = 2\n",
        "j = 5\n",
        "\n",
        "eigenfaces = np.zeros((n*i, m*j))\n",
        "count = 0\n",
        "\n",
        "for ii in range(i):\n",
        "  for jj in range(j):\n",
        "    eigenfaces[ii*n:(ii+1)*n, jj*m:(jj+1)*m] = np.reshape(U[:,count],(m,n)).T\n",
        "    count += 1\n",
        "\n",
        "img = plt.imshow(eigenfaces, vmin = -1e-2, vmax = 1e-2, cmap=\"coolwarm\")\n",
        "plt.axis('off')"
      ],
      "metadata": {
        "id": "7dlp0ppUdwDL"
      },
      "execution_count": null,
      "outputs": []
    },
    {
      "cell_type": "code",
      "source": [
        "# Let's now look at the singular values\n",
        "idx = np.where(S > 1.0)\n",
        "print(len(S))\n",
        "print(len(idx[0]))\n",
        "plt.semilogy(S[idx], 'o')"
      ],
      "metadata": {
        "id": "Qzn0w-agP5k8"
      },
      "execution_count": null,
      "outputs": []
    },
    {
      "cell_type": "markdown",
      "source": [
        "### 4. Represent Person 37 with Eigen faces"
      ],
      "metadata": {
        "id": "Ler23f7QUnzQ"
      }
    },
    {
      "cell_type": "code",
      "source": [
        "testFace = faces[:,np.sum(nfaces[:36])] # Person 37\n",
        "testFaceMS = testFace - avgFace\n",
        "r_list = [25, 50, 100, 200, 400, 800, 1600]\n",
        "r = 1600\n",
        "reconFace = avgFace + U[:,:r] @ (U[:,:r].T @ testFaceMS)\n",
        "img = plt.imshow(np.reshape(reconFace,(m,n)).T, cmap=\"Greys_r\")\n",
        "plt.axis(\"off\")"
      ],
      "metadata": {
        "id": "aUmdyksxQOYE"
      },
      "execution_count": null,
      "outputs": []
    },
    {
      "cell_type": "markdown",
      "source": [
        "### 5. principal component projection"
      ],
      "metadata": {
        "id": "Ljs4i0OPYLXQ"
      }
    },
    {
      "cell_type": "code",
      "source": [
        "P1num = 2 # Person number 2\n",
        "P2num = 7 # Person number 7\n",
        "P1 = faces[:,np.sum(nfaces[:(P1num-1)]):np.sum(nfaces[:P1num ])]\n",
        "P2 = faces[:,np.sum(nfaces[:(P2num-1)]):np.sum(nfaces[:P2num ])]\n",
        "P1 = P1 - np.tile(avgFace,(P1.shape[1],1)).T\n",
        "P2 = P2 - np.tile(avgFace,(P2.shape[1],1)).T\n",
        "PCAmodes = [5, 6] # Project onto PCA modes 5 and 6\n",
        "PCACoordsP1 = U[:,PCAmodes-np.ones_like(PCAmodes)].T @ P1\n",
        "PCACoordsP2 = U[:,PCAmodes-np.ones_like(PCAmodes)].T @ P2"
      ],
      "metadata": {
        "id": "PCY-bD3lUx1y"
      },
      "execution_count": 22,
      "outputs": []
    },
    {
      "cell_type": "code",
      "source": [
        "plt.plot(PCACoordsP1[0,:],PCACoordsP1[1,:],'d',c='k')\n",
        "plt.plot(PCACoordsP2[0,:],PCACoordsP2[1,:],'^',c='r')\n",
        "# plt.xlim([-500, 500])\n",
        "# plt.ylim([-500, 500])"
      ],
      "metadata": {
        "id": "LnfsddqwaH7M"
      },
      "execution_count": null,
      "outputs": []
    },
    {
      "cell_type": "code",
      "source": [],
      "metadata": {
        "id": "83faICU5aWe5"
      },
      "execution_count": null,
      "outputs": []
    }
  ]
}