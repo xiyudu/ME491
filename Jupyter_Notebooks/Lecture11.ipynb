{
  "nbformat": 4,
  "nbformat_minor": 0,
  "metadata": {
    "colab": {
      "provenance": []
    },
    "kernelspec": {
      "name": "python3",
      "display_name": "Python 3"
    },
    "language_info": {
      "name": "python"
    }
  },
  "cells": [
    {
      "cell_type": "markdown",
      "source": [
        "## Lecture 11: Gradient Descent\n",
        "\n",
        "In this notebook, we are going to write our own steepest descent code, and then explore some built-in functionalities from different Python packages."
      ],
      "metadata": {
        "id": "hG-0dz9oFzCN"
      }
    },
    {
      "cell_type": "code",
      "execution_count": null,
      "metadata": {
        "id": "JSMV2CO7FxeT"
      },
      "outputs": [],
      "source": [
        "import numpy as np\n",
        "import os\n",
        "\n",
        "import matplotlib.pyplot as plt\n",
        "from matplotlib import rc\n",
        "\n",
        "plt.rcParams['xtick.labelsize']=20      # change the tick label size for x axis\n",
        "plt.rcParams['ytick.labelsize']=20      # change the tick label size for x axis\n",
        "plt.rcParams['axes.linewidth']=1        # change the line width of the axis\n",
        "plt.rcParams['xtick.major.width'] = 3   # change the tick line width of x axis\n",
        "plt.rcParams['ytick.major.width'] = 3   # change the tick line width of y axis\n",
        "rc('text', usetex=False)                # disable LaTeX rendering in plots\n",
        "rc('font',**{'family':'DejaVu Sans'})   # set the font of the plot to be DejaVu Sans"
      ]
    },
    {
      "cell_type": "markdown",
      "source": [
        "### 1. 3D Contour Plot\n",
        "\n",
        "First, let's draw\n",
        "$$f(x,y) = x^2+3y^2$$ in a 3D plot"
      ],
      "metadata": {
        "id": "Vg2th3Lu5Ni0"
      }
    },
    {
      "cell_type": "code",
      "source": [
        "from mpl_toolkits.mplot3d import Axes3D\n",
        "\n",
        "h = 0.5\n",
        "x = np.arange(-6,6+h,h)\n",
        "y = np.arange(-6,6+h,h)\n",
        "\n",
        "X,Y = np.meshgrid(x,y)\n",
        "F = X**2 + 3*Y**2\n",
        "\n",
        "fig = plt.figure(figsize=(12,8))\n",
        "ax = fig.add_subplot(111, projection='3d')\n",
        "ax.plot_surface(X, Y, F, cmap='inferno', linewidth=0, antialiased=True, alpha = 0.5)\n",
        "ax.contour(X, Y, F, zdir='z', offset=ax.get_zlim()[0], cmap='inferno')\n",
        "ax.set_xlabel('$x$', fontsize = 20)\n",
        "ax.set_ylabel('$y$', fontsize = 20)\n",
        "ax.set_zlabel('$f(x, y)$', fontsize = 20)"
      ],
      "metadata": {
        "id": "AycepscjLGj-"
      },
      "execution_count": null,
      "outputs": []
    },
    {
      "cell_type": "markdown",
      "source": [
        "Let's now try to plot the gradient for $x$ and $y$ respectively"
      ],
      "metadata": {
        "id": "cNtgckB49voL"
      }
    },
    {
      "cell_type": "code",
      "source": [
        "dFdX = 2*X\n",
        "dFdY = 6*Y\n",
        "\n",
        "fig = plt.figure(figsize=(12,8))\n",
        "axs = fig.subplots(1, 2,subplot_kw={'projection': '3d'})\n",
        "axs[0].plot_surface(X, Y, dFdX, cmap='inferno', linewidth=0, antialiased=True, alpha = 0.5)\n",
        "axs[0].contour(X, Y, dFdX, zdir='z', offset=ax.get_zlim()[0], cmap='inferno')\n",
        "axs[0].set_xlabel('$x$', fontsize = 20)\n",
        "axs[0].set_ylabel('$y$', fontsize = 20)\n",
        "axs[0].set_zlabel('$df/dx$', fontsize = 20)\n",
        "axs[1].plot_surface(X, Y, dFdY, cmap='inferno', linewidth=0, antialiased=True, alpha = 0.5)\n",
        "axs[1].contour(X, Y, dFdY, zdir='z', offset=ax.get_zlim()[0], cmap='inferno')\n",
        "axs[1].set_xlabel('$x$', fontsize = 20)\n",
        "axs[1].set_ylabel('$y$', fontsize = 20)\n",
        "axs[1].set_zlabel('$df/dy$', fontsize = 20)"
      ],
      "metadata": {
        "id": "A9FI3g3e56xJ"
      },
      "execution_count": null,
      "outputs": []
    },
    {
      "cell_type": "markdown",
      "source": [
        "### 2. Steepest Descent Algorithm\n",
        "\n",
        "Now let's implement Steepest Descent Algorithm"
      ],
      "metadata": {
        "id": "ZvJL-iSP_gMW"
      }
    },
    {
      "cell_type": "code",
      "source": [
        "### 1. pick some random initial guess\n",
        "x0, y0 = 3.0, 4.0\n",
        "### 2. compute initial value of the function\n",
        "f0 = x0**2 + 3*y0**2\n",
        "### 3. compute delta\n",
        "delta = (x0**2+9*y0**2)/(2*x0**2+54*y0**2)\n",
        "### 4. take one step\n",
        "x1, y1 = x0 - delta * 2*x0, y0 - delta * 6*y0\n",
        "f1 = x1**2 + 3*y1**2\n",
        "\n",
        "### 5. start iteration\n",
        "counter = 0\n",
        "while (abs(f1-f0) > 1e-6) and (counter < 1e4):\n",
        "  x0, y0, f0 = x1, y1, f1\n",
        "  delta = (x0**2+9*y0**2)/(2*x0**2+54*y0**2)\n",
        "  x1, y1 = x0 - delta * 2*x0, y0 - delta * 6*y0\n",
        "  f1 = x1**2 + 3*y1**2\n",
        "  counter += 1\n",
        "  print(\"x, y, f(x, y) values are: \", x1, y1, f1)"
      ],
      "metadata": {
        "id": "SKws4rva-gaI"
      },
      "execution_count": null,
      "outputs": []
    },
    {
      "cell_type": "markdown",
      "source": [
        "### 3. Visualize the steepest descent path"
      ],
      "metadata": {
        "id": "o0MEDYZmF6uM"
      }
    },
    {
      "cell_type": "code",
      "source": [
        "### 1. pick some random initial guess\n",
        "x0, y0 = 6.0, 7.0\n",
        "### 2. compute initial value of the function\n",
        "f0 = x0**2 + 3*y0**2\n",
        "### 3. compute delta\n",
        "delta = (x0**2+9*y0**2)/(2*x0**2+54*y0**2)\n",
        "### 4. take one step\n",
        "x1, y1 = x0 - delta * 2*x0, y0 - delta * 6*y0\n",
        "f1 = x1**2 + 3*y1**2\n",
        "plt.plot([x0, x1], [y0, y1], '--', c = 'k', linewidth = 2)\n",
        "### 5. start iteration\n",
        "counter = 0\n",
        "while (abs(f1-f0) > 1e-6) and (counter < 1e4):\n",
        "  x0, y0, f0 = x1, y1, f1\n",
        "  delta = (x0**2+9*y0**2)/(2*x0**2+54*y0**2)\n",
        "  x1, y1 = x0 - delta * 2*x0, y0 - delta * 6*y0\n",
        "  f1 = x1**2 + 3*y1**2\n",
        "  counter += 1\n",
        "  plt.plot([x0, x1], [y0, y1], '--', c = 'k', linewidth = 2)\n",
        "plt.contour(X, Y, F, cmap='inferno')\n",
        "plt.xlabel('$x$', fontsize = 25)\n",
        "plt.ylabel('$y$', fontsize = 25)\n"
      ],
      "metadata": {
        "id": "2kgQYKdZE-Sm"
      },
      "execution_count": null,
      "outputs": []
    },
    {
      "cell_type": "markdown",
      "source": [
        "### 4. In class exercise\n",
        "\n",
        "For the following function\n",
        "$$ f(x, y) = 0.5x^4 + 6y^2, $$\n",
        "\n",
        "1. make a 3D surface and 2D contour plot of the function.\n",
        "2. pick a $\\delta$ value to apply gradient descent"
      ],
      "metadata": {
        "id": "QlbQojx_HiDc"
      }
    },
    {
      "cell_type": "code",
      "source": [],
      "metadata": {
        "id": "5hUwU6AcLHBB"
      },
      "execution_count": null,
      "outputs": []
    }
  ]
}